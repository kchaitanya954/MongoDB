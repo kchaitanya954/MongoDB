{
 "cells": [
  {
   "cell_type": "code",
   "execution_count": 6,
   "id": "adjustable-ready",
   "metadata": {
    "scrolled": true
   },
   "outputs": [
    {
     "name": "stdout",
     "output_type": "stream",
     "text": [
      "Looking in indexes: http://pypi-registry.supplementary-services.svc.cluster.local:8080/\n",
      "Collecting clickhouse-driver\n",
      "  Downloading http://pypi-registry.supplementary-services.svc.cluster.local:8080/packages/clickhouse_driver-0.2.0-cp38-cp38-manylinux2010_x86_64.whl (570 kB)\n",
      "\u001b[K     |████████████████████████████████| 570 kB 3.3 MB/s eta 0:00:01\n",
      "\u001b[?25hRequirement already satisfied: pytz in /opt/conda/lib/python3.8/site-packages (from clickhouse-driver) (2021.1)\n",
      "Collecting tzlocal<3.0\n",
      "  Downloading http://pypi-registry.supplementary-services.svc.cluster.local:8080/packages/tzlocal-2.1-py2.py3-none-any.whl (16 kB)\n",
      "Installing collected packages: tzlocal, clickhouse-driver\n",
      "Successfully installed clickhouse-driver-0.2.0 tzlocal-2.1\n"
     ]
    }
   ],
   "source": [
    "!pip install --user --trusted-host pypi-registry.supplementary-services.svc.cluster.local --index http://pypi-registry.supplementary-services.svc.cluster.local:8080/ clickhouse-driver"
   ]
  },
  {
   "cell_type": "code",
   "execution_count": 98,
   "id": "sharing-mambo",
   "metadata": {},
   "outputs": [],
   "source": [
    "from clickhouse_driver import Client"
   ]
  },
  {
   "cell_type": "code",
   "execution_count": 99,
   "id": "pointed-remains",
   "metadata": {},
   "outputs": [],
   "source": [
    "client1 = Client('clickhouse-1')\n"
   ]
  },
  {
   "cell_type": "code",
   "execution_count": 100,
   "id": "breathing-copying",
   "metadata": {},
   "outputs": [
    {
     "data": {
      "text/plain": [
       "[('_temporary_and_external_tables',),\n",
       " ('bd',),\n",
       " ('default',),\n",
       " ('system',),\n",
       " ('task',),\n",
       " ('vk',)]"
      ]
     },
     "execution_count": 100,
     "metadata": {},
     "output_type": "execute_result"
    }
   ],
   "source": [
    "client1.execute('show databases')"
   ]
  },
  {
   "cell_type": "code",
   "execution_count": 4,
   "id": "photographic-consultation",
   "metadata": {},
   "outputs": [
    {
     "data": {
      "text/plain": [
       "[('clickhouse-2', 9000, 0, '', 2, 0),\n",
       " ('clickhouse-1', 9000, 0, '', 1, 0),\n",
       " ('clickhouse-3', 9000, 0, '', 0, 0)]"
      ]
     },
     "execution_count": 4,
     "metadata": {},
     "output_type": "execute_result"
    }
   ],
   "source": [
    "client1.execute('create database task on cluster kube_clickhouse_cluster')"
   ]
  },
  {
   "cell_type": "code",
   "execution_count": 165,
   "id": "protected-handling",
   "metadata": {},
   "outputs": [
    {
     "data": {
      "text/plain": [
       "[]"
      ]
     },
     "execution_count": 165,
     "metadata": {},
     "output_type": "execute_result"
    }
   ],
   "source": [
    "client1.execute('use task')"
   ]
  },
  {
   "cell_type": "code",
   "execution_count": 6,
   "id": "rubber-portsmouth",
   "metadata": {
    "scrolled": true
   },
   "outputs": [
    {
     "data": {
      "text/plain": [
       "[('_temporary_and_external_tables',),\n",
       " ('default',),\n",
       " ('system',),\n",
       " ('task',),\n",
       " ('vk',)]"
      ]
     },
     "execution_count": 6,
     "metadata": {},
     "output_type": "execute_result"
    }
   ],
   "source": [
    "client1.execute('show databases')"
   ]
  },
  {
   "cell_type": "code",
   "execution_count": 40,
   "id": "greek-collector",
   "metadata": {},
   "outputs": [
    {
     "data": {
      "text/plain": [
       "[('clickhouse-2', 9000, 0, '', 2, 0),\n",
       " ('clickhouse-1', 9000, 0, '', 1, 0),\n",
       " ('clickhouse-3', 9000, 0, '', 0, 0)]"
      ]
     },
     "execution_count": 40,
     "metadata": {},
     "output_type": "execute_result"
    }
   ],
   "source": [
    "client1.execute('GRANT ALL ON *.* TO task3_PK WITH GRANT OPTION on cluster kube_clickhouse_cluster;')"
   ]
  },
  {
   "cell_type": "code",
   "execution_count": 10,
   "id": "spread-carpet",
   "metadata": {
    "scrolled": true
   },
   "outputs": [
    {
     "data": {
      "text/plain": [
       "[('clickhouse-2', 9000, 0, '', 2, 0),\n",
       " ('clickhouse-1', 9000, 0, '', 1, 0),\n",
       " ('clickhouse-3', 9000, 0, '', 0, 0)]"
      ]
     },
     "execution_count": 10,
     "metadata": {},
     "output_type": "execute_result"
    }
   ],
   "source": [
    "client1.execute('create role solver on CLUSTER kube_clickhouse_cluster ;')"
   ]
  },
  {
   "cell_type": "code",
   "execution_count": 10,
   "id": "resident-growing",
   "metadata": {
    "scrolled": true
   },
   "outputs": [
    {
     "data": {
      "text/plain": [
       "[('solver',)]"
      ]
     },
     "execution_count": 10,
     "metadata": {},
     "output_type": "execute_result"
    }
   ],
   "source": [
    "client1.execute('show roles;')"
   ]
  },
  {
   "cell_type": "markdown",
   "id": "judicial-breach",
   "metadata": {},
   "source": [
    "### Settings for user creation has been granted in user.xml files."
   ]
  },
  {
   "cell_type": "code",
   "execution_count": 13,
   "id": "rural-justice",
   "metadata": {},
   "outputs": [
    {
     "data": {
      "text/plain": [
       "[('clickhouse-2', 9000, 0, '', 2, 0),\n",
       " ('clickhouse-3', 9000, 0, '', 1, 0),\n",
       " ('clickhouse-1', 9000, 0, '', 0, 0)]"
      ]
     },
     "execution_count": 13,
     "metadata": {},
     "output_type": "execute_result"
    }
   ],
   "source": [
    "client1.execute(\"CREATE USER IF NOT EXISTS task3_PK ON CLUSTER kube_clickhouse_cluster \\\n",
    "IDENTIFIED WITH plaintext_password BY '12345678' default ROLE solver\")"
   ]
  },
  {
   "cell_type": "code",
   "execution_count": 14,
   "id": "essential-virginia",
   "metadata": {},
   "outputs": [
    {
     "data": {
      "text/plain": [
       "[('default',), ('task3_PK',)]"
      ]
     },
     "execution_count": 14,
     "metadata": {},
     "output_type": "execute_result"
    }
   ],
   "source": [
    "client1.execute('show users')"
   ]
  },
  {
   "cell_type": "markdown",
   "id": "documentary-naples",
   "metadata": {},
   "source": [
    "## Likes "
   ]
  },
  {
   "cell_type": "code",
   "execution_count": 15,
   "id": "plastic-origin",
   "metadata": {},
   "outputs": [
    {
     "name": "stdout",
     "output_type": "stream",
     "text": [
      "{\"item_type\":\"post\",\"owner_id\":\"-174416405\",\"item_id\":\"1083\",\"liker_id\":\"72689\",\"ctime\":\"0000-00-00 00:00:00\",\"like_date\":\"0000-00-00 00:00:00\",\"post_date\":\"2019-03-15 07:34:00\"}\r\n",
      "{\"item_type\":\"post\",\"owner_id\":\"-174416405\",\"item_id\":\"1103\",\"liker_id\":\"72689\",\"ctime\":\"0000-00-00 00:00:00\",\"like_date\":\"0000-00-00 00:00:00\",\"post_date\":\"2019-03-17 08:05:00\"}\r\n",
      "{\"item_type\":\"post\",\"owner_id\":\"-170321944\",\"item_id\":\"328776\",\"liker_id\":\"72689\",\"ctime\":\"0000-00-00 00:00:00\",\"like_date\":\"0000-00-00 00:00:00\",\"post_date\":\"2019-03-11 23:50:00\"}\r\n"
     ]
    }
   ],
   "source": [
    "# observe the data in likes.json \n",
    "!head -3 ~/shared-data/clickhouse_data/likes.json"
   ]
  },
  {
   "cell_type": "code",
   "execution_count": 7,
   "id": "perfect-pattern",
   "metadata": {
    "scrolled": true
   },
   "outputs": [
    {
     "data": {
      "text/plain": [
       "[('clickhouse-2', 9000, 0, '', 2, 0),\n",
       " ('clickhouse-1', 9000, 0, '', 1, 0),\n",
       " ('clickhouse-3', 9000, 0, '', 0, 0)]"
      ]
     },
     "execution_count": 7,
     "metadata": {},
     "output_type": "execute_result"
    }
   ],
   "source": [
    "# create table likes\n",
    "\n",
    "client1.execute('CREATE TABLE IF NOT EXISTS task.likes ON CLUSTER kube_clickhouse_cluster\\\n",
    "(\\\n",
    "    item_type String,\\\n",
    "    owner_id Int64,\\\n",
    "    item_id Int64,\\\n",
    "    liker_id Int64,\\\n",
    "    ctime DateTime,\\\n",
    "    like_date DateTime,\\\n",
    "    post_date DateTime\\\n",
    ")\\\n",
    "ENGINE = MergeTree()\\\n",
    "PARTITION BY toYear(post_date)\\\n",
    "ORDER BY (liker_id, owner_id, item_id);')"
   ]
  },
  {
   "cell_type": "code",
   "execution_count": 8,
   "id": "generous-portland",
   "metadata": {
    "scrolled": true
   },
   "outputs": [
    {
     "data": {
      "text/plain": [
       "[('clickhouse-2', 9000, 0, '', 2, 0),\n",
       " ('clickhouse-3', 9000, 0, '', 1, 0),\n",
       " ('clickhouse-1', 9000, 0, '', 0, 0)]"
      ]
     },
     "execution_count": 8,
     "metadata": {},
     "output_type": "execute_result"
    }
   ],
   "source": [
    "# table created using Distributed DDL Queries.\n",
    "client1.execute('CREATE TABLE task.ddl_likes ON CLUSTER kube_clickhouse_cluster AS task.likes ENGINE = Distributed(kube_clickhouse_cluster, task, likes, xxHash64(owner_id));')"
   ]
  },
  {
   "cell_type": "code",
   "execution_count": 9,
   "id": "casual-mother",
   "metadata": {
    "scrolled": true
   },
   "outputs": [
    {
     "data": {
      "text/plain": [
       "[('clickhouse-2', 9000, 0, '', 2, 0),\n",
       " ('clickhouse-3', 9000, 0, '', 1, 0),\n",
       " ('clickhouse-1', 9000, 0, '', 0, 0)]"
      ]
     },
     "execution_count": 9,
     "metadata": {},
     "output_type": "execute_result"
    }
   ],
   "source": [
    "# table created for kafka engine to import external data.\n",
    "client1.execute(\"CREATE TABLE IF NOT EXISTS task.likes_kafka ON CLUSTER kube_clickhouse_cluster\\\n",
    "(\\\n",
    "    item_type String,\\\n",
    "    owner_id Int64,\\\n",
    "    item_id Int64,\\\n",
    "    liker_id Int64,\\\n",
    "    ctime DateTime,\\\n",
    "    like_date DateTime,\\\n",
    "    post_date DateTime\\\n",
    ")\\\n",
    "ENGINE = Kafka('kafka-svc:9092', 'task_likes', 'Cgroup') SETTINGS kafka_format = 'JSONEachRow', kafka_row_delimiter = '\\n';\")"
   ]
  },
  {
   "cell_type": "code",
   "execution_count": 10,
   "id": "entire-specialist",
   "metadata": {},
   "outputs": [
    {
     "data": {
      "text/plain": [
       "[('clickhouse-2', 9000, 0, '', 2, 0),\n",
       " ('clickhouse-1', 9000, 0, '', 1, 0),\n",
       " ('clickhouse-3', 9000, 0, '', 0, 0)]"
      ]
     },
     "execution_count": 10,
     "metadata": {},
     "output_type": "execute_result"
    }
   ],
   "source": [
    "# creating mv to transfer data between kafka and ddl table.\n",
    "client1.execute('CREATE MATERIALIZED VIEW task.mv_kafka_likes ON CLUSTER kube_clickhouse_cluster TO task.ddl_likes AS SELECT * FROM task.likes_kafka;')"
   ]
  },
  {
   "cell_type": "code",
   "execution_count": null,
   "id": "dress-algeria",
   "metadata": {},
   "outputs": [],
   "source": []
  },
  {
   "cell_type": "code",
   "execution_count": null,
   "id": "functioning-opposition",
   "metadata": {},
   "outputs": [],
   "source": [
    "# inserting json data into likeskafka table.\n",
    "# opt/kafka_2.13-2.7.0/bin/kafka-console-producer.sh --topic task_likes --bootstrap-server kafka-svc:9092 < shared-data/clickhouse_data/likes.json"
   ]
  },
  {
   "cell_type": "code",
   "execution_count": null,
   "id": "independent-associate",
   "metadata": {},
   "outputs": [],
   "source": [
    "# Creating replicating likes table\n",
    "# client1.execute(\"CREATE TABLE IF NOT EXISTS task3.rep_likes ON CLUSTER kube_clickhouse_cluster\\\n",
    "# (\\\n",
    "#     item_type String,\\\n",
    "#     owner_id Int64,\\\n",
    "#     item_id Int64,\\\n",
    "#     liker_id Int64,\\\n",
    "#     ctime DateTime,\\\n",
    "#     like_date DateTime,\\\n",
    "#     post_date DateTime\\\n",
    "# )\\\n",
    "# ENGINE = ReplicatedMergeTree('/replicated _likes', 'rep_likes')\\\n",
    "# PARTITION BY toYear(post_date)\\\n",
    "# ORDER BY (liker_id, owner_id, item_id);\")\n"
   ]
  },
  {
   "cell_type": "code",
   "execution_count": 11,
   "id": "lightweight-design",
   "metadata": {},
   "outputs": [
    {
     "data": {
      "text/plain": [
       "[(0,)]"
      ]
     },
     "execution_count": 11,
     "metadata": {},
     "output_type": "execute_result"
    }
   ],
   "source": [
    "client1.execute('select count() from task.likes')"
   ]
  },
  {
   "cell_type": "code",
   "execution_count": 12,
   "id": "intelligent-judges",
   "metadata": {},
   "outputs": [
    {
     "data": {
      "text/plain": [
       "[(0,)]"
      ]
     },
     "execution_count": 12,
     "metadata": {},
     "output_type": "execute_result"
    }
   ],
   "source": [
    "client1.execute('select count() from task.ddl_likes')"
   ]
  },
  {
   "cell_type": "code",
   "execution_count": 24,
   "id": "offshore-remainder",
   "metadata": {},
   "outputs": [
    {
     "data": {
      "text/plain": [
       "[(-12382740, 153094),\n",
       " (-28950133, 74455),\n",
       " (-31836774, 60841),\n",
       " (-36164349, 59592),\n",
       " (-6136139, 57391)]"
      ]
     },
     "execution_count": 24,
     "metadata": {},
     "output_type": "execute_result"
    }
   ],
   "source": [
    "client1.execute(\"SELECT \\\n",
    "    owner_id, \\\n",
    "    count() AS likes_count \\\n",
    "FROM task.likes \\\n",
    "GROUP BY owner_id ORDER BY likes_count desc limit 5;\")"
   ]
  },
  {
   "cell_type": "code",
   "execution_count": null,
   "id": "wrapped-adoption",
   "metadata": {},
   "outputs": [],
   "source": [
    "# creating materlized view 1 for likes table.\n",
    "client1.execute(\"CREATE MATERIALIZED VIEW task.mv1_likes ON CLUSTER kube_clickhouse_cluster \\\n",
    "ENGINE = AggregatingMergeTree() \\\n",
    "ORDER BY (likes_count) \\\n",
    "POPULATE \\\n",
    "AS SELECT \\\n",
    "    owner_id, \\\n",
    "    countState() AS likes_count \\\n",
    "FROM task.likes \\\n",
    "GROUP BY owner_id ORDER BY likes_count desc;\")"
   ]
  },
  {
   "cell_type": "code",
   "execution_count": 28,
   "id": "bearing-fruit",
   "metadata": {},
   "outputs": [
    {
     "data": {
      "text/plain": [
       "[('clickhouse-2', 9000, 0, '', 2, 0),\n",
       " ('clickhouse-1', 9000, 0, '', 1, 0),\n",
       " ('clickhouse-3', 9000, 0, '', 0, 0)]"
      ]
     },
     "execution_count": 28,
     "metadata": {},
     "output_type": "execute_result"
    }
   ],
   "source": [
    "client1.execute(\"CREATE TABLE task.ddl_mv1_likes ON CLUSTER kube_clickhouse_cluster AS task.mv1_likes ENGINE = Distributed(kube_clickhouse_cluster, task, mv1_likes)\")"
   ]
  },
  {
   "cell_type": "code",
   "execution_count": 138,
   "id": "given-return",
   "metadata": {},
   "outputs": [
    {
     "data": {
      "text/plain": [
       "[(141042511, 35110),\n",
       " (268735255, 31082),\n",
       " (132131032, 27685),\n",
       " (151432057, 26635),\n",
       " (1881674, 23499)]"
      ]
     },
     "execution_count": 138,
     "metadata": {},
     "output_type": "execute_result"
    }
   ],
   "source": [
    "client1.execute(\"SELECT \\\n",
    "    liker_id, \\\n",
    "    count() AS likes_count \\\n",
    "FROM task.likes where liker_id is not null \\\n",
    "GROUP BY liker_id order by likes_count desc limit 5;\")"
   ]
  },
  {
   "cell_type": "code",
   "execution_count": null,
   "id": "competitive-consensus",
   "metadata": {},
   "outputs": [],
   "source": []
  },
  {
   "cell_type": "code",
   "execution_count": 36,
   "id": "bacterial-retailer",
   "metadata": {},
   "outputs": [
    {
     "data": {
      "text/plain": [
       "[('clickhouse-2', 9000, 0, '', 2, 0),\n",
       " ('clickhouse-3', 9000, 0, '', 1, 0),\n",
       " ('clickhouse-1', 9000, 0, '', 0, 0)]"
      ]
     },
     "execution_count": 36,
     "metadata": {},
     "output_type": "execute_result"
    }
   ],
   "source": [
    "client1.execute(\"CREATE TABLE task.ddl_mv2_likes ON CLUSTER kube_clickhouse_cluster AS task.mv2_likes ENGINE = Distributed(kube_clickhouse_cluster, task, mv2_likes);\")"
   ]
  },
  {
   "cell_type": "code",
   "execution_count": 142,
   "id": "determined-masters",
   "metadata": {},
   "outputs": [
    {
     "data": {
      "text/plain": [
       "[(141042511, 35110),\n",
       " (268735255, 31082),\n",
       " (132131032, 27685),\n",
       " (151432057, 26635),\n",
       " (1881674, 23499)]"
      ]
     },
     "execution_count": 142,
     "metadata": {},
     "output_type": "execute_result"
    }
   ],
   "source": [
    "client1.execute(\"select * from task.mv2_likes order by likes_count desc limit 5\")"
   ]
  },
  {
   "cell_type": "code",
   "execution_count": 143,
   "id": "remarkable-relation",
   "metadata": {},
   "outputs": [
    {
     "data": {
      "text/plain": [
       "[(30052656, 55078),\n",
       " (132131032, 50095),\n",
       " (141042511, 49586),\n",
       " (59400881, 39197),\n",
       " (133662976, 38612)]"
      ]
     },
     "execution_count": 143,
     "metadata": {},
     "output_type": "execute_result"
    }
   ],
   "source": [
    "client1.execute(\"select * from task.ddl_mv2_likes order by likes_count desc limit 5\")"
   ]
  },
  {
   "cell_type": "markdown",
   "id": "partial-combat",
   "metadata": {},
   "source": [
    "## followers"
   ]
  },
  {
   "cell_type": "code",
   "execution_count": 27,
   "id": "cleared-uruguay",
   "metadata": {},
   "outputs": [
    {
     "name": "stdout",
     "output_type": "stream",
     "text": [
      "{\"profile_id\":\"328582\",\"follower_id\":\"4652928\",\"ctime\":\"2020-03-07 10:09:50\"}\r\n",
      "{\"profile_id\":\"328582\",\"follower_id\":\"5638400\",\"ctime\":\"2020-03-07 10:09:50\"}\r\n",
      "{\"profile_id\":\"328582\",\"follower_id\":\"5800954\",\"ctime\":\"2020-03-07 10:09:50\"}\r\n"
     ]
    }
   ],
   "source": [
    "!head -3 ~/shared-data/clickhouse_data/followers.json"
   ]
  },
  {
   "cell_type": "code",
   "execution_count": 33,
   "id": "excess-joshua",
   "metadata": {},
   "outputs": [
    {
     "data": {
      "text/plain": [
       "[('clickhouse-2', 9000, 0, '', 2, 0),\n",
       " ('clickhouse-1', 9000, 0, '', 1, 0),\n",
       " ('clickhouse-3', 9000, 0, '', 0, 0)]"
      ]
     },
     "execution_count": 33,
     "metadata": {},
     "output_type": "execute_result"
    }
   ],
   "source": [
    "client1.execute(\"CREATE TABLE IF NOT EXISTS task.followers ON CLUSTER kube_clickhouse_cluster\\\n",
    "(\\\n",
    "    profile_id Int64,\\\n",
    "    follower_id Int64,\\\n",
    "    ctime DateTime) ENGINE = MergeTree()\\\n",
    "PARTITION BY toYear(ctime)\\\n",
    "ORDER BY (follower_id, profile_id);\")"
   ]
  },
  {
   "cell_type": "code",
   "execution_count": 35,
   "id": "based-drinking",
   "metadata": {},
   "outputs": [
    {
     "data": {
      "text/plain": [
       "[('clickhouse-2', 9000, 0, '', 2, 0),\n",
       " ('clickhouse-1', 9000, 0, '', 1, 0),\n",
       " ('clickhouse-3', 9000, 0, '', 0, 0)]"
      ]
     },
     "execution_count": 35,
     "metadata": {},
     "output_type": "execute_result"
    }
   ],
   "source": [
    "client1.execute(\"CREATE TABLE task.ddl_followers ON CLUSTER kube_clickhouse_cluster AS task.followers ENGINE = Distributed(kube_clickhouse_cluster, task, followers, xxHash64(follower_id));\")"
   ]
  },
  {
   "cell_type": "code",
   "execution_count": 38,
   "id": "swedish-horse",
   "metadata": {},
   "outputs": [
    {
     "data": {
      "text/plain": [
       "[('clickhouse-2', 9000, 0, '', 2, 2),\n",
       " ('clickhouse-1', 9000, 0, '', 1, 0),\n",
       " ('clickhouse-3', 9000, 0, '', 0, 0)]"
      ]
     },
     "execution_count": 38,
     "metadata": {},
     "output_type": "execute_result"
    }
   ],
   "source": [
    "client1.execute(\"CREATE TABLE IF NOT EXISTS task.followers_kafka ON CLUSTER kube_clickhouse_cluster\\\n",
    "(\\\n",
    "    profile_id Int64,\\\n",
    "    follower_id Int64,\\\n",
    "    ctime DateTime) ENGINE = Kafka('kafka-svc:9092', 'task_followers', 'Cgroup') SETTINGS kafka_format = 'JSONEachRow', kafka_row_delimiter = '\\n'\")"
   ]
  },
  {
   "cell_type": "code",
   "execution_count": 40,
   "id": "magnetic-shell",
   "metadata": {},
   "outputs": [
    {
     "data": {
      "text/plain": [
       "[]"
      ]
     },
     "execution_count": 40,
     "metadata": {},
     "output_type": "execute_result"
    }
   ],
   "source": [
    "# creating mv to transfer data between kafka and ddl table.\n",
    "client1.execute(\"CREATE MATERIALIZED VIEW task.mv_kafka_followers TO task.ddl_followers AS SELECT * FROM task.followers_kafka;\")"
   ]
  },
  {
   "cell_type": "code",
   "execution_count": null,
   "id": "fresh-relay",
   "metadata": {},
   "outputs": [],
   "source": [
    "# inserting json data into likeskafka table.\n",
    "# opt/kafka_2.13-2.7.0/bin/kafka-console-producer.sh --topic task_followers --bootstrap-server kafka-svc:9092 < shared-data/clickhouse_data/followers.json"
   ]
  },
  {
   "cell_type": "code",
   "execution_count": 144,
   "id": "delayed-painting",
   "metadata": {},
   "outputs": [
    {
     "data": {
      "text/plain": [
       "[(5592362, 334252),\n",
       " (22851406, 200018),\n",
       " (16652378, 149531),\n",
       " (93808169, 93115),\n",
       " (82029701, 69525)]"
      ]
     },
     "execution_count": 144,
     "metadata": {},
     "output_type": "execute_result"
    }
   ],
   "source": [
    "client1.execute(\"SELECT \\\n",
    "    profile_id, \\\n",
    "    count() AS follower_count \\\n",
    "FROM task.followers \\\n",
    "GROUP BY profile_id order by follower_count desc limit 5;\")"
   ]
  },
  {
   "cell_type": "code",
   "execution_count": 41,
   "id": "subjective-rwanda",
   "metadata": {},
   "outputs": [
    {
     "data": {
      "text/plain": [
       "[('clickhouse-2', 9000, 0, '', 2, 0),\n",
       " ('clickhouse-3', 9000, 0, '', 1, 0),\n",
       " ('clickhouse-1', 9000, 0, '', 0, 0)]"
      ]
     },
     "execution_count": 41,
     "metadata": {},
     "output_type": "execute_result"
    }
   ],
   "source": [
    "client1.execute('drop table task.ddl_mv1_followers ON CLUSTER kube_clickhouse_cluster')"
   ]
  },
  {
   "cell_type": "code",
   "execution_count": 42,
   "id": "settled-elevation",
   "metadata": {},
   "outputs": [
    {
     "data": {
      "text/plain": [
       "[('clickhouse-2', 9000, 0, '', 2, 2),\n",
       " ('clickhouse-3', 9000, 0, '', 1, 1),\n",
       " ('clickhouse-1', 9000, 0, '', 0, 0)]"
      ]
     },
     "execution_count": 42,
     "metadata": {},
     "output_type": "execute_result"
    }
   ],
   "source": [
    "# creating materlized view 1 for followers table.\n",
    "client1.execute(\"CREATE MATERIALIZED VIEW task.mv1_followers ON CLUSTER kube_clickhouse_cluster \\\n",
    "ENGINE = AggregatingMergeTree() \\\n",
    "ORDER BY (follower_count) \\\n",
    "POPULATE \\\n",
    "AS SELECT \\\n",
    "    profile_id, \\\n",
    "    countState() AS follower_count \\\n",
    "FROM task.followers \\\n",
    "GROUP BY profile_id;\")"
   ]
  },
  {
   "cell_type": "code",
   "execution_count": 43,
   "id": "parental-glucose",
   "metadata": {},
   "outputs": [
    {
     "data": {
      "text/plain": [
       "[('clickhouse-2', 9000, 0, '', 2, 0),\n",
       " ('clickhouse-1', 9000, 0, '', 1, 0),\n",
       " ('clickhouse-3', 9000, 0, '', 0, 0)]"
      ]
     },
     "execution_count": 43,
     "metadata": {},
     "output_type": "execute_result"
    }
   ],
   "source": [
    "client1.execute(\"CREATE TABLE task.ddl_mv1_followers ON CLUSTER kube_clickhouse_cluster AS task.mv1_followers ENGINE = Distributed(kube_clickhouse_cluster, task, mv1_followers);\")"
   ]
  },
  {
   "cell_type": "code",
   "execution_count": 43,
   "id": "honest-mother",
   "metadata": {},
   "outputs": [
    {
     "data": {
      "text/plain": [
       "[('clickhouse-2', 9000, 0, '', 2, 2),\n",
       " ('clickhouse-3', 9000, 0, '', 1, 0),\n",
       " ('clickhouse-1', 9000, 0, '', 0, 0)]"
      ]
     },
     "execution_count": 43,
     "metadata": {},
     "output_type": "execute_result"
    }
   ],
   "source": [
    "# creating materlized view 2 for followers table.\n",
    "client1.execute(\"CREATE MATERIALIZED VIEW task.mv2_followers ON CLUSTER kube_clickhouse_cluster \\\n",
    "ENGINE = AggregatingMergeTree() \\\n",
    "ORDER BY (followers_count) \\\n",
    "POPULATE \\\n",
    "AS SELECT \\\n",
    "    follower_id, \\\n",
    "    countState() AS followers_count \\\n",
    "FROM task.followers \\\n",
    "GROUP BY follower_id;\")"
   ]
  },
  {
   "cell_type": "code",
   "execution_count": 44,
   "id": "isolated-surrey",
   "metadata": {},
   "outputs": [
    {
     "data": {
      "text/plain": [
       "[('clickhouse-2', 9000, 0, '', 2, 0),\n",
       " ('clickhouse-3', 9000, 0, '', 1, 0),\n",
       " ('clickhouse-1', 9000, 0, '', 0, 0)]"
      ]
     },
     "execution_count": 44,
     "metadata": {},
     "output_type": "execute_result"
    }
   ],
   "source": [
    "client1.execute(\"CREATE TABLE task.ddl_mv2_followers ON CLUSTER kube_clickhouse_cluster AS task.mv2_followers ENGINE = Distributed(kube_clickhouse_cluster, task, mv2_followers);\")"
   ]
  },
  {
   "cell_type": "code",
   "execution_count": null,
   "id": "developmental-blake",
   "metadata": {},
   "outputs": [],
   "source": []
  },
  {
   "cell_type": "code",
   "execution_count": null,
   "id": "latin-sleep",
   "metadata": {},
   "outputs": [],
   "source": []
  },
  {
   "cell_type": "code",
   "execution_count": null,
   "id": "lovely-waterproof",
   "metadata": {},
   "outputs": [],
   "source": []
  },
  {
   "cell_type": "code",
   "execution_count": null,
   "id": "handy-quantity",
   "metadata": {},
   "outputs": [],
   "source": []
  },
  {
   "cell_type": "markdown",
   "id": "expressed-legislation",
   "metadata": {},
   "source": [
    "## friends"
   ]
  },
  {
   "cell_type": "code",
   "execution_count": 51,
   "id": "secondary-scholar",
   "metadata": {},
   "outputs": [
    {
     "name": "stdout",
     "output_type": "stream",
     "text": [
      "{\"user_id\":\"6\",\"friend_id\":\"197\",\"ctime\":\"2020-03-03 18:25:31\"}\r\n",
      "{\"user_id\":\"6\",\"friend_id\":\"2675\",\"ctime\":\"2020-03-03 18:25:31\"}\r\n",
      "{\"user_id\":\"6\",\"friend_id\":\"2807\",\"ctime\":\"2020-03-03 18:25:31\"}\r\n"
     ]
    }
   ],
   "source": [
    "!head -3 ~/shared-data/clickhouse_data/friends.json"
   ]
  },
  {
   "cell_type": "code",
   "execution_count": 81,
   "id": "collected-elevation",
   "metadata": {},
   "outputs": [
    {
     "data": {
      "text/plain": [
       "[('clickhouse-2', 9000, 0, '', 2, 2),\n",
       " ('clickhouse-1', 9000, 0, '', 1, 0),\n",
       " ('clickhouse-3', 9000, 0, '', 0, 0)]"
      ]
     },
     "execution_count": 81,
     "metadata": {},
     "output_type": "execute_result"
    }
   ],
   "source": [
    "client1.execute('drop table task.rep_friends ON CLUSTER kube_clickhouse_cluster')"
   ]
  },
  {
   "cell_type": "code",
   "execution_count": 107,
   "id": "healthy-producer",
   "metadata": {},
   "outputs": [
    {
     "data": {
      "text/plain": [
       "[]"
      ]
     },
     "execution_count": 107,
     "metadata": {},
     "output_type": "execute_result"
    }
   ],
   "source": [
    "client1.execute(\"CREATE TABLE IF NOT EXISTS task.repFriends \\\n",
    "(\\\n",
    "    user_id Int64,\\\n",
    "    friend_id Int64,\\\n",
    "    ctime DateTime\\\n",
    ")\\\n",
    "ENGINE = ReplicatedMergeTree('/clickhouse/tables/{shard}/task/repFriends', '{replica}')\\\n",
    "PARTITION BY toYear(ctime)\\\n",
    "ORDER BY (friend_id, user_id);\")"
   ]
  },
  {
   "cell_type": "code",
   "execution_count": 103,
   "id": "joint-aging",
   "metadata": {},
   "outputs": [
    {
     "data": {
      "text/plain": [
       "[]"
      ]
     },
     "execution_count": 103,
     "metadata": {},
     "output_type": "execute_result"
    }
   ],
   "source": [
    "client1.execute(\"CREATE TABLE IF NOT EXISTS task.friends_rep\\\n",
    "(\\\n",
    "    user_id Int64,\\\n",
    "    friend_id Int64,\\\n",
    "    ctime DateTime\\\n",
    ")\\\n",
    "ENGINE = ReplicatedMergeTree('/clickhouse/tables/01/friends_rep', 'friends_rep1')\\\n",
    "PARTITION BY toYear(ctime)\\\n",
    "ORDER BY (friend_id, user_id);\")"
   ]
  },
  {
   "cell_type": "code",
   "execution_count": null,
   "id": "interested-moldova",
   "metadata": {},
   "outputs": [],
   "source": [
    "client1.execute(\"CREATE TABLE IF NOT EXISTS task.friends_rep\\\n",
    "(\\\n",
    "    user_id Int64,\\\n",
    "    friend_id Int64,\\\n",
    "    ctime DateTime\\\n",
    ")\\\n",
    "ENGINE = ReplicatedMergeTree('/clickhouse/tables/02/friends_rep', 'friends_rep2')\\\n",
    "PARTITION BY toYear(ctime)\\\n",
    "ORDER BY (friend_id, user_id);\")"
   ]
  },
  {
   "cell_type": "code",
   "execution_count": null,
   "id": "developed-warrior",
   "metadata": {},
   "outputs": [],
   "source": [
    "CREATE TABLE IF NOT EXISTS task.friends_rep\\\n",
    "(\\\n",
    "    user_id Int64,\\\n",
    "    friend_id Int64,\\\n",
    "    ctime DateTime\\\n",
    ")\\\n",
    "ENGINE = ReplicatedMergeTree('/clickhouse/tables/03/friends_rep', 'friends_rep3')\\\n",
    "PARTITION BY toYear(ctime)\\\n",
    "ORDER BY (friend_id, user_id);"
   ]
  },
  {
   "cell_type": "code",
   "execution_count": null,
   "id": "foreign-worthy",
   "metadata": {},
   "outputs": [],
   "source": [
    "SELECT *\n",
    "FROM system.replicas\n",
    "WHERE table = 'friends_rep'\n",
    "FORMAT Vertical"
   ]
  },
  {
   "cell_type": "code",
   "execution_count": 48,
   "id": "paperback-bobby",
   "metadata": {
    "scrolled": true
   },
   "outputs": [
    {
     "data": {
      "text/plain": [
       "[('clickhouse-1', 9000, 0, '', 2, 1),\n",
       " ('clickhouse-3', 9000, 0, '', 1, 1),\n",
       " ('clickhouse-2', 9000, 0, '', 0, 0)]"
      ]
     },
     "execution_count": 48,
     "metadata": {},
     "output_type": "execute_result"
    }
   ],
   "source": [
    "client1.execute(\"CREATE TABLE IF NOT EXISTS task.friends ON CLUSTER kube_clickhouse_cluster\\\n",
    "(\\\n",
    "    user_id Int64,\\\n",
    "    friend_id Int64,\\\n",
    "    ctime DateTime\\\n",
    ")\\\n",
    "ENGINE = ReplicatedMergeTree('/friends', 'friends')\\\n",
    "PARTITION BY toYear(ctime)\\\n",
    "ORDER BY (friend_id, user_id);\")"
   ]
  },
  {
   "cell_type": "code",
   "execution_count": 50,
   "id": "surrounded-kazakhstan",
   "metadata": {},
   "outputs": [
    {
     "data": {
      "text/plain": [
       "[('clickhouse-1', 9000, 0, '', 2, 2),\n",
       " ('clickhouse-2', 9000, 0, '', 1, 1),\n",
       " ('clickhouse-3', 9000, 0, '', 0, 0)]"
      ]
     },
     "execution_count": 50,
     "metadata": {},
     "output_type": "execute_result"
    }
   ],
   "source": [
    "client1.execute(\"CREATE TABLE task.ddl_friends ON CLUSTER kube_clickhouse_cluster AS task.friends ENGINE = Distributed(kube_clickhouse_cluster, task, friends, xxHash64(user_id));\")"
   ]
  },
  {
   "cell_type": "code",
   "execution_count": 52,
   "id": "bibliographic-preliminary",
   "metadata": {},
   "outputs": [
    {
     "data": {
      "text/plain": [
       "[('clickhouse-1', 9000, 0, '', 2, 2),\n",
       " ('clickhouse-2', 9000, 0, '', 1, 0),\n",
       " ('clickhouse-3', 9000, 0, '', 0, 0)]"
      ]
     },
     "execution_count": 52,
     "metadata": {},
     "output_type": "execute_result"
    }
   ],
   "source": [
    "client1.execute(\"CREATE TABLE IF NOT EXISTS task.friends_kafka ON CLUSTER kube_clickhouse_cluster\\\n",
    "(\\\n",
    "    user_id Int64,\\\n",
    "    friend_id Int64,\\\n",
    "    ctime DateTime) Kafka('kafka-svc:9092', 'task_friends', 'task') SETTINGS kafka_format = 'JSONEachRow', kafka_row_delimiter = '\\n'\")"
   ]
  },
  {
   "cell_type": "code",
   "execution_count": 54,
   "id": "descending-tuning",
   "metadata": {},
   "outputs": [
    {
     "data": {
      "text/plain": [
       "[]"
      ]
     },
     "execution_count": 54,
     "metadata": {},
     "output_type": "execute_result"
    }
   ],
   "source": [
    "# creating mv to transfer data between kafka and ddl table.\n",
    "client1.execute(\"CREATE MATERIALIZED VIEW task.mv_kafka_friends TO task.ddl_friends AS SELECT * FROM task.friends_kafka;\")"
   ]
  },
  {
   "cell_type": "code",
   "execution_count": null,
   "id": "soviet-choir",
   "metadata": {},
   "outputs": [],
   "source": [
    "# inserting json data into likeskafka table.\n",
    "# opt/kafka_2.13-2.7.0/bin/kafka-console-producer.sh --topic task_friends --bootstrap-server kafka-svc:9092 < shared-data/clickhouse_data/friends.json"
   ]
  },
  {
   "cell_type": "code",
   "execution_count": 151,
   "id": "strange-scoop",
   "metadata": {},
   "outputs": [
    {
     "data": {
      "text/plain": [
       "[(295100189, 20336),\n",
       " (4230380, 18300),\n",
       " (248532383, 17936),\n",
       " (416658557, 13226),\n",
       " (22944210, 12754)]"
      ]
     },
     "execution_count": 151,
     "metadata": {},
     "output_type": "execute_result"
    }
   ],
   "source": [
    "client1.execute(\"SELECT \\\n",
    "    user_id, \\\n",
    "    count() AS friends_count \\\n",
    "FROM task.friends \\\n",
    "GROUP BY user_id order by friends_count desc limit 5;\")"
   ]
  },
  {
   "cell_type": "code",
   "execution_count": 48,
   "id": "incident-small",
   "metadata": {},
   "outputs": [
    {
     "data": {
      "text/plain": [
       "[('clickhouse-2', 9000, 0, '', 2, 0),\n",
       " ('clickhouse-3', 9000, 0, '', 1, 0),\n",
       " ('clickhouse-1', 9000, 0, '', 0, 0)]"
      ]
     },
     "execution_count": 48,
     "metadata": {},
     "output_type": "execute_result"
    }
   ],
   "source": [
    "client1.execute('drop table task.ddl_mv1_friends ON CLUSTER kube_clickhouse_cluster')"
   ]
  },
  {
   "cell_type": "code",
   "execution_count": 47,
   "id": "universal-league",
   "metadata": {},
   "outputs": [
    {
     "data": {
      "text/plain": [
       "[('clickhouse-2', 9000, 0, '', 2, 0),\n",
       " ('clickhouse-3', 9000, 0, '', 1, 0),\n",
       " ('clickhouse-1', 9000, 0, '', 0, 0)]"
      ]
     },
     "execution_count": 47,
     "metadata": {},
     "output_type": "execute_result"
    }
   ],
   "source": [
    "# creating materlized view 1 for friends table.\n",
    "client1.execute(\"CREATE MATERIALIZED VIEW task.mv1_friends ON CLUSTER kube_clickhouse_cluster \\\n",
    "ENGINE = AggregatingMergeTree() \\\n",
    "ORDER BY (friends_count) \\\n",
    "POPULATE \\\n",
    "AS SELECT \\\n",
    "    user_id, \\\n",
    "    countState() AS friends_count \\\n",
    "FROM task.friends \\\n",
    "GROUP BY user_id;\")"
   ]
  },
  {
   "cell_type": "code",
   "execution_count": 49,
   "id": "crucial-terminology",
   "metadata": {},
   "outputs": [
    {
     "data": {
      "text/plain": [
       "[('clickhouse-2', 9000, 0, '', 2, 0),\n",
       " ('clickhouse-1', 9000, 0, '', 1, 0),\n",
       " ('clickhouse-3', 9000, 0, '', 0, 0)]"
      ]
     },
     "execution_count": 49,
     "metadata": {},
     "output_type": "execute_result"
    }
   ],
   "source": [
    "client1.execute(\"CREATE TABLE task.ddl_mv1_friends ON CLUSTER kube_clickhouse_cluster AS task.mv1_friends ENGINE = Distributed(kube_clickhouse_cluster, task, mv1_friends);\")"
   ]
  },
  {
   "cell_type": "code",
   "execution_count": 57,
   "id": "enclosed-authentication",
   "metadata": {},
   "outputs": [
    {
     "data": {
      "text/plain": [
       "[('clickhouse-1', 9000, 0, '', 2, 2),\n",
       " ('clickhouse-2', 9000, 0, '', 1, 1),\n",
       " ('clickhouse-3', 9000, 0, '', 0, 0)]"
      ]
     },
     "execution_count": 57,
     "metadata": {},
     "output_type": "execute_result"
    }
   ],
   "source": [
    "# creating materlized view 2 for friends table.\n",
    "client1.execute(\"CREATE MATERIALIZED VIEW task.mv2_friends ON CLUSTER kube_clickhouse_cluster \\\n",
    "ENGINE = AggregatingMergeTree() \\\n",
    "ORDER BY (user_count) \\\n",
    "POPULATE \\\n",
    "AS SELECT \\\n",
    "    friend_id, \\\n",
    "    countState() AS user_count \\\n",
    "FROM task.friends \\\n",
    "GROUP BY friend_id;\")"
   ]
  },
  {
   "cell_type": "code",
   "execution_count": 58,
   "id": "positive-restriction",
   "metadata": {},
   "outputs": [
    {
     "data": {
      "text/plain": [
       "[('clickhouse-2', 9000, 0, '', 2, 1),\n",
       " ('clickhouse-1', 9000, 0, '', 1, 1),\n",
       " ('clickhouse-3', 9000, 0, '', 0, 0)]"
      ]
     },
     "execution_count": 58,
     "metadata": {},
     "output_type": "execute_result"
    }
   ],
   "source": [
    "client1.execute(\"CREATE TABLE task.ddl_mv2_friends ON CLUSTER kube_clickhouse_cluster AS task.mv2_friends ENGINE = Distributed(kube_clickhouse_cluster, task, mv2_friends);\")"
   ]
  },
  {
   "cell_type": "code",
   "execution_count": null,
   "id": "verified-communist",
   "metadata": {},
   "outputs": [],
   "source": []
  },
  {
   "cell_type": "code",
   "execution_count": null,
   "id": "affiliated-implement",
   "metadata": {},
   "outputs": [],
   "source": []
  },
  {
   "cell_type": "code",
   "execution_count": null,
   "id": "legendary-georgia",
   "metadata": {},
   "outputs": [],
   "source": []
  },
  {
   "cell_type": "code",
   "execution_count": null,
   "id": "popular-supervision",
   "metadata": {},
   "outputs": [],
   "source": []
  },
  {
   "cell_type": "code",
   "execution_count": null,
   "id": "stuffed-arnold",
   "metadata": {},
   "outputs": [],
   "source": []
  },
  {
   "cell_type": "markdown",
   "id": "accomplished-mapping",
   "metadata": {},
   "source": [
    "## posts"
   ]
  },
  {
   "cell_type": "code",
   "execution_count": 59,
   "id": "immune-american",
   "metadata": {},
   "outputs": [
    {
     "name": "stdout",
     "output_type": "stream",
     "text": [
      "{\"ctime\":\"0000-00-00 00:00:00\",\"date\":\"2012-03-13 00:00:00\",\"post_id\":\"5\",\"from_id\":\"78062\",\"owner_id\":\"-36559458\",\"comments_count\":-1,\"likes_count\":2,\"reposts_count\":0,\"views_count\":0,\"text\":\"\",\"signed_by\":\"-1\",\"post_type\":\"post\",\"reposted_from_owner_id\":null,\"reposted_from_post_id\":null,\"geo\":0,\"geo_lat\":null,\"geo_lon\":null,\"geo_hash\":null,\"photo_attachments.owner_id\":[],\"photo_attachments.photo_id\":[],\"photo_attachments.size\":[],\"photo_attachments.url\":[],\"photo_attachments.geo_lat\":[],\"photo_attachments.geo_lon\":[],\"photo_attachments.geo_hash\":[],\"video_attachments.owner_id\":[],\"video_attachments.video_id\":[],\"video_attachments.views\":[],\"audio_attachments.owner_id\":[],\"audio_attachments.audio_id\":[],\"audio_attachments.artist\":[],\"audio_attachments.title\":[],\"doc_attachments.owner_id\":[],\"doc_attachments.doc_id\":[],\"doc_attachments.title\":[],\"doc_attachments.size\":[],\"doc_attachments.url\":[],\"doc_attachments.type\":[],\"link_attachments.title\":[],\"link_attachments.url\":[],\"page_attachments.group_id\":[],\"page_attachments.page_id\":[],\"sticker_attachments.sticker_id\":[],\"photos_attachments_count\":1,\"videos_attachments_count\":0,\"audios_attachments_count\":0,\"docs_attachments_count\":0,\"links_attachments_count\":0,\"pages_attachments_count\":0,\"stickers_attachments_count\":0}\r\n",
      "{\"ctime\":\"0000-00-00 00:00:00\",\"date\":\"2012-03-14 00:00:00\",\"post_id\":\"11\",\"from_id\":\"78062\",\"owner_id\":\"-36559458\",\"comments_count\":-1,\"likes_count\":2,\"reposts_count\":0,\"views_count\":0,\"text\":\"22 местный коттедж стоит на 2 выходных дня 72000р. <br> Это значит с человека за двое суток 3273 р\",\"signed_by\":\"-1\",\"post_type\":\"post\",\"reposted_from_owner_id\":null,\"reposted_from_post_id\":null,\"geo\":0,\"geo_lat\":null,\"geo_lon\":null,\"geo_hash\":null,\"photo_attachments.owner_id\":[],\"photo_attachments.photo_id\":[],\"photo_attachments.size\":[],\"photo_attachments.url\":[],\"photo_attachments.geo_lat\":[],\"photo_attachments.geo_lon\":[],\"photo_attachments.geo_hash\":[],\"video_attachments.owner_id\":[],\"video_attachments.video_id\":[],\"video_attachments.views\":[],\"audio_attachments.owner_id\":[],\"audio_attachments.audio_id\":[],\"audio_attachments.artist\":[],\"audio_attachments.title\":[],\"doc_attachments.owner_id\":[],\"doc_attachments.doc_id\":[],\"doc_attachments.title\":[],\"doc_attachments.size\":[],\"doc_attachments.url\":[],\"doc_attachments.type\":[],\"link_attachments.title\":[],\"link_attachments.url\":[],\"page_attachments.group_id\":[],\"page_attachments.page_id\":[],\"sticker_attachments.sticker_id\":[],\"photos_attachments_count\":1,\"videos_attachments_count\":0,\"audios_attachments_count\":0,\"docs_attachments_count\":0,\"links_attachments_count\":0,\"pages_attachments_count\":0,\"stickers_attachments_count\":0}\r\n"
     ]
    }
   ],
   "source": [
    "!head -2 ~/shared-data/clickhouse_data/posts.json"
   ]
  },
  {
   "cell_type": "code",
   "execution_count": null,
   "id": "worse-heath",
   "metadata": {},
   "outputs": [],
   "source": [
    "client1.execute(\"CREATE TABLE task.posts ON CLUSTER kube_clickhouse_cluster\\\n",
    "(\\\n",
    "    ctime Nullable(DateTime),\\\n",
    "    date Nullable(DateTime),\\\n",
    "    post_id Int64,\\\n",
    "    from_id Nullable(String),\\\n",
    "    owner_id Nullable(String),\\\n",
    "    comments_count Nullable(Int64),\\\n",
    "    likes_count Nullable(Int64),\\\n",
    "    reposts_count Nullable(Int64),\\\n",
    "    views_count Nullable(Int64),\\\n",
    "    text Nullable(String),\\\n",
    "    signed_by Nullable(String),\\\n",
    "    post_type Nullable(String),\\\n",
    "    reposted_from_owner_id Nullable(String),\\\n",
    "    reposted_from_post_id Nullable(String),\\\n",
    "    geo Nullable(Int64),\\\n",
    "    geo_lat Nullable(Float64),\\\n",
    "    geo_lon Nullable(Float64),\\\n",
    "    geo_hash Nullable(String),\\\n",
    "    \\\n",
    "    photo_attachments Nested\\\n",
    "    (\\\n",
    "        owner_id Nullable(String),\\\n",
    "        photo_id Nullable(String),\\\n",
    "        size Nullable(String),\\\n",
    "        url Nullable(String),\\\n",
    "        geo_lat Nullable(Float64),\\\n",
    "        geo_lon Nullable(Float64),\\\n",
    "        geo_hash Nullable(String)\\\n",
    "    ),\\\n",
    "\\\n",
    "    video_attachments Nested\\\n",
    "    (\\\n",
    "        owner_id Nullable(String),\\\n",
    "        video_id Nullable(String),\\\n",
    "        views Nullable(Int64)    \\\n",
    "    ),\\\n",
    "\\\n",
    "    audio_attachments Nested\\\n",
    "    (\\\n",
    "        owner_id Nullable(String),\\\n",
    "        audio_id Nullable(String),\\\n",
    "        artist Nullable(String),\\\n",
    "        title Nullable(String)\\\n",
    "    ),\\\n",
    "    \\\n",
    "    doc_attachments Nested\\\n",
    "    (\\\n",
    "        owner_id Nullable(String),\\\n",
    "        doc_id Nullable(String),\\\n",
    "        title Nullable(String),\\\n",
    "        size Nullable(String),\\\n",
    "        url Nullable(String),\\\n",
    "        type Nullable(Int64)\\\n",
    "    ),\\\n",
    "    \\\n",
    "    link_attachments Nested\\\n",
    "    (\\\n",
    "        title Nullable(String),\\\n",
    "        url Nullable(String)\\\n",
    "    ),\\\n",
    "    \\\n",
    "    page_attachments Nested\\\n",
    "    (\\\n",
    "        group_id Nullable(String),\\\n",
    "        page_id Nullable(String)\\\n",
    "    ),\\\n",
    "    \\\n",
    "    sticker_attachments Nested\\\n",
    "    (\\\n",
    "        sticker_id Nullable(String)\\\n",
    "    ),\\\n",
    "    \\\n",
    "    photos_attachments_count Nullable(Int64),\\\n",
    "    videos_attachments_count Nullable(Int64),\\\n",
    "    audios_attachments_count Nullable(Int64),\\\n",
    "    docs_attachments_count Nullable(Int64),\\\n",
    "    links_attachments_count Nullable(Int64),\\\n",
    "    pages_attachments_count Nullable(Int64),\\\n",
    "    stickers_attachments_count Nullable(Int64)\\\n",
    "    \\\n",
    ")\\\n",
    "ENGINE = ReplicatedMergeTree('/posts', 'posts')\\\n",
    "ORDER BY (post_id);\")"
   ]
  },
  {
   "cell_type": "code",
   "execution_count": 65,
   "id": "registered-tourist",
   "metadata": {},
   "outputs": [
    {
     "data": {
      "text/plain": [
       "[('clickhouse-2', 9000, 0, '', 2, 1),\n",
       " ('clickhouse-1', 9000, 0, '', 1, 1),\n",
       " ('clickhouse-3', 9000, 0, '', 0, 0)]"
      ]
     },
     "execution_count": 65,
     "metadata": {},
     "output_type": "execute_result"
    }
   ],
   "source": [
    "client1.execute(\"CREATE TABLE task.ddl_posts ON CLUSTER kube_clickhouse_cluster AS task.posts ENGINE = Distributed(kube_clickhouse_cluster, task, posts, xxHash64(post_id));\")"
   ]
  },
  {
   "cell_type": "code",
   "execution_count": 67,
   "id": "thrown-laugh",
   "metadata": {},
   "outputs": [
    {
     "data": {
      "text/plain": [
       "[('clickhouse-2', 9000, 0, '', 2, 0),\n",
       " ('clickhouse-1', 9000, 0, '', 1, 0),\n",
       " ('clickhouse-3', 9000, 0, '', 0, 0)]"
      ]
     },
     "execution_count": 67,
     "metadata": {},
     "output_type": "execute_result"
    }
   ],
   "source": [
    "client1.execute(\"CREATE TABLE task.posts_kafka ON CLUSTER kube_clickhouse_cluster\\\n",
    "(\\\n",
    "    ctime Nullable(DateTime),\\\n",
    "    date Nullable(DateTime),\\\n",
    "    post_id Int64,\\\n",
    "    from_id Nullable(String),\\\n",
    "    owner_id Nullable(String),\\\n",
    "    comments_count Nullable(Int64),\\\n",
    "    likes_count Nullable(Int64),\\\n",
    "    reposts_count Nullable(Int64),\\\n",
    "    views_count Nullable(Int64),\\\n",
    "    text Nullable(String),\\\n",
    "    signed_by Nullable(String),\\\n",
    "    post_type Nullable(String),\\\n",
    "    reposted_from_owner_id Nullable(String),\\\n",
    "    reposted_from_post_id Nullable(String),\\\n",
    "    geo Nullable(Int64),\\\n",
    "    geo_lat Nullable(Float64),\\\n",
    "    geo_lon Nullable(Float64),\\\n",
    "    geo_hash Nullable(String),\\\n",
    "    \\\n",
    "    photo_attachments Nested\\\n",
    "    (\\\n",
    "        owner_id Nullable(String),\\\n",
    "        photo_id Nullable(String),\\\n",
    "        size Nullable(String),\\\n",
    "        url Nullable(String),\\\n",
    "        geo_lat Nullable(Float64),\\\n",
    "        geo_lon Nullable(Float64),\\\n",
    "        geo_hash Nullable(String)\\\n",
    "    ),\\\n",
    "\\\n",
    "    video_attachments Nested\\\n",
    "    (\\\n",
    "        owner_id Nullable(String),\\\n",
    "        video_id Nullable(String),\\\n",
    "        views Nullable(Int64)    \\\n",
    "    ),\\\n",
    "\\\n",
    "    audio_attachments Nested\\\n",
    "    (\\\n",
    "        owner_id Nullable(String),\\\n",
    "        audio_id Nullable(String),\\\n",
    "        artist Nullable(String),\\\n",
    "        title Nullable(String)\\\n",
    "    ),\\\n",
    "    \\\n",
    "    doc_attachments Nested\\\n",
    "    (\\\n",
    "        owner_id Nullable(String),\\\n",
    "        doc_id Nullable(String),\\\n",
    "        title Nullable(String),\\\n",
    "        size Nullable(String),\\\n",
    "        url Nullable(String),\\\n",
    "        type Nullable(Int64)\\\n",
    "    ),\\\n",
    "    \\\n",
    "    link_attachments Nested\\\n",
    "    (\\\n",
    "        title Nullable(String),\\\n",
    "        url Nullable(String)\\\n",
    "    ),\\\n",
    "    \\\n",
    "    page_attachments Nested\\\n",
    "    (\\\n",
    "        group_id Nullable(String),\\\n",
    "        page_id Nullable(String)\\\n",
    "    ),\\\n",
    "    \\\n",
    "    sticker_attachments Nested\\\n",
    "    (\\\n",
    "        sticker_id Nullable(String)\\\n",
    "    ),\\\n",
    "    \\\n",
    "    photos_attachments_count Nullable(Int64),\\\n",
    "    videos_attachments_count Nullable(Int64),\\\n",
    "    audios_attachments_count Nullable(Int64),\\\n",
    "    docs_attachments_count Nullable(Int64),\\\n",
    "    links_attachments_count Nullable(Int64),\\\n",
    "    pages_attachments_count Nullable(Int64),\\\n",
    "    stickers_attachments_count Nullable(Int64)\\\n",
    "    \\\n",
    ") ENGINE = Kafka('kafka-svc:9092', 'task_posts', 'Cgroup') SETTINGS kafka_format = 'JSONEachRow', kafka_row_delimiter = '\\n';\")"
   ]
  },
  {
   "cell_type": "code",
   "execution_count": 68,
   "id": "nutritional-terror",
   "metadata": {},
   "outputs": [
    {
     "data": {
      "text/plain": [
       "[]"
      ]
     },
     "execution_count": 68,
     "metadata": {},
     "output_type": "execute_result"
    }
   ],
   "source": [
    "# creating mv to transfer data between kafka and ddl table.\n",
    "client1.execute(\"CREATE MATERIALIZED VIEW task.mv_kafka_posts TO task.ddl_posts AS SELECT * FROM task.posts_kafka;\")"
   ]
  },
  {
   "cell_type": "code",
   "execution_count": null,
   "id": "likely-intersection",
   "metadata": {},
   "outputs": [],
   "source": [
    "# inserting json data into likeskafka table.\n",
    "# opt/kafka_2.13-2.7.0/bin/kafka-console-producer.sh --topic task_posts --bootstrap-server kafka-svc:9092 < shared-data/clickhouse_data/posts.json"
   ]
  },
  {
   "cell_type": "code",
   "execution_count": 161,
   "id": "motivated-caribbean",
   "metadata": {},
   "outputs": [
    {
     "data": {
      "text/plain": [
       "[(87014, 12736.0, 12736),\n",
       " (76893, 11150.0, 11150),\n",
       " (83274, 10746.0, 10746),\n",
       " (56842, 3515.6666666666665, 10547),\n",
       " (86964, 10145.0, 10145)]"
      ]
     },
     "execution_count": 161,
     "metadata": {},
     "output_type": "execute_result"
    }
   ],
   "source": [
    "client1.execute(\"SELECT \\\n",
    "    post_id, \\\n",
    "    avg(views_count) AS likes_count_avg, \\\n",
    "    sum(likes_count) AS likes_count_sum FROM task.posts GROUP BY post_id order by likes_count_sum desc limit 5;\")"
   ]
  },
  {
   "cell_type": "code",
   "execution_count": 52,
   "id": "radical-summary",
   "metadata": {},
   "outputs": [
    {
     "data": {
      "text/plain": [
       "[('clickhouse-2', 9000, 0, '', 2, 0),\n",
       " ('clickhouse-1', 9000, 0, '', 1, 0),\n",
       " ('clickhouse-3', 9000, 0, '', 0, 0)]"
      ]
     },
     "execution_count": 52,
     "metadata": {},
     "output_type": "execute_result"
    }
   ],
   "source": [
    "client1.execute('drop table task.ddl_mv1_posts ON CLUSTER kube_clickhouse_cluster')"
   ]
  },
  {
   "cell_type": "code",
   "execution_count": 51,
   "id": "fiscal-tiger",
   "metadata": {
    "scrolled": false
   },
   "outputs": [
    {
     "data": {
      "text/plain": [
       "[('clickhouse-2', 9000, 0, '', 2, 1),\n",
       " ('clickhouse-3', 9000, 0, '', 1, 1),\n",
       " ('clickhouse-1', 9000, 0, '', 0, 0)]"
      ]
     },
     "execution_count": 51,
     "metadata": {},
     "output_type": "execute_result"
    }
   ],
   "source": [
    "# creating materlized view 1 for posts table.\n",
    "client1.execute(\"CREATE MATERIALIZED VIEW task.mv1_posts ON CLUSTER kube_clickhouse_cluster \\\n",
    "ENGINE = SummingMergeTree() \\\n",
    "ORDER BY (post_id) \\\n",
    "POPULATE \\\n",
    "AS SELECT \\\n",
    "    post_id, \\\n",
    "    avgState(likes_count) AS likes_count_avg, \\\n",
    "    sumState(likes_count) AS likes_count_sum FROM task.posts GROUP BY post_id;\")"
   ]
  },
  {
   "cell_type": "code",
   "execution_count": 53,
   "id": "invalid-sympathy",
   "metadata": {},
   "outputs": [
    {
     "data": {
      "text/plain": [
       "[('clickhouse-2', 9000, 0, '', 2, 0),\n",
       " ('clickhouse-3', 9000, 0, '', 1, 0),\n",
       " ('clickhouse-1', 9000, 0, '', 0, 0)]"
      ]
     },
     "execution_count": 53,
     "metadata": {},
     "output_type": "execute_result"
    }
   ],
   "source": [
    "client1.execute(\"CREATE TABLE task.ddl_mv1_posts ON CLUSTER kube_clickhouse_cluster AS task.mv1_posts ENGINE = Distributed(kube_clickhouse_cluster, task, mv1_posts);\")"
   ]
  },
  {
   "cell_type": "code",
   "execution_count": 171,
   "id": "facial-honolulu",
   "metadata": {},
   "outputs": [
    {
     "data": {
      "text/plain": [
       "[(2780, 1, 253000, 8565.129032258064, 265519),\n",
       " (70581, 17, 253000, 126508.5, 253017),\n",
       " (70978, 235000, 235000, 235000.0, 235000),\n",
       " (71621, 190000, 190000, 190000.0, 190000),\n",
       " (70381, 11, 142000, 71005.5, 142011)]"
      ]
     },
     "execution_count": 171,
     "metadata": {},
     "output_type": "execute_result"
    }
   ],
   "source": [
    "client1.execute(\"SELECT \\\n",
    "    post_id, \\\n",
    "    min(views_count) AS views_count_min, \\\n",
    "    max(views_count) AS views_count_max, \\\n",
    "    avg(views_count) AS views_count_avg, \\\n",
    "    sum(views_count) AS views_count_sum FROM task.posts WHERE (views_count > 0) GROUP BY post_id \\\n",
    "    order by views_count_sum desc limit 5;\")"
   ]
  },
  {
   "cell_type": "code",
   "execution_count": null,
   "id": "convinced-conspiracy",
   "metadata": {},
   "outputs": [],
   "source": [
    "CREATE MATERIALIZED VIEW task.mv2_posts \\\n",
    "ENGINE = AggregatingMergeTree() \\\n",
    "ORDER BY (post_id) \\\n",
    "POPULATE \\\n",
    "AS SELECT \\\n",
    "    post_id, \\\n",
    "    minState(views_count) AS views_count_min, \\\n",
    "    maxState(views_count) AS views_count_max, \\\n",
    "    avgState(views_count) AS views_count_avg, \\\n",
    "    sumState(views_count) AS views_count_sum FROM task.posts WHERE (views_count > 0) GROUP BY post_id;"
   ]
  },
  {
   "cell_type": "code",
   "execution_count": 55,
   "id": "fifty-lightweight",
   "metadata": {},
   "outputs": [
    {
     "data": {
      "text/plain": [
       "[('clickhouse-2', 9000, 0, '', 2, 0),\n",
       " ('clickhouse-1', 9000, 0, '', 1, 0),\n",
       " ('clickhouse-3', 9000, 0, '', 0, 0)]"
      ]
     },
     "execution_count": 55,
     "metadata": {},
     "output_type": "execute_result"
    }
   ],
   "source": [
    "# creating materlized view 2 for posts table.\n",
    "client1.execute(\"CREATE MATERIALIZED VIEW task.mv2_posts ON CLUSTER kube_clickhouse_cluster \\\n",
    "ENGINE = AggregatingMergeTree() \\\n",
    "ORDER BY (post_id) \\\n",
    "POPULATE \\\n",
    "AS SELECT \\\n",
    "    post_id, \\\n",
    "    minState(views_count) AS views_count_min, \\\n",
    "    maxState(views_count) AS views_count_max, \\\n",
    "    avgState(views_count) AS views_count_avg, \\\n",
    "    sumState(views_count) AS views_count_sum FROM task.posts WHERE (views_count > 0) GROUP BY post_id;\")"
   ]
  },
  {
   "cell_type": "code",
   "execution_count": null,
   "id": "quiet-landing",
   "metadata": {},
   "outputs": [],
   "source": [
    "CREATE TABLE task.ddl_mv2_posts AS task.mv2_posts ENGINE = Distributed(kube_clickhouse_cluster, task, mv2_posts);"
   ]
  },
  {
   "cell_type": "code",
   "execution_count": 177,
   "id": "possible-young",
   "metadata": {},
   "outputs": [
    {
     "data": {
      "text/plain": [
       "[(71003, 710000, 710000, 710000.0, 710000),\n",
       " (71038, 529000, 529000, 529000.0, 529000),\n",
       " (70879, 329000, 329000, 329000.0, 329000),\n",
       " (70978, 235000, 235000, 235000.0, 235000),\n",
       " (71621, 190000, 190000, 190000.0, 190000)]"
      ]
     },
     "execution_count": 177,
     "metadata": {},
     "output_type": "execute_result"
    }
   ],
   "source": [
    "client1.execute(\"select * from task.ddl_mv2_posts order by views_count_avg desc limit 5;\")"
   ]
  },
  {
   "cell_type": "code",
   "execution_count": null,
   "id": "binary-shoot",
   "metadata": {},
   "outputs": [],
   "source": []
  },
  {
   "cell_type": "code",
   "execution_count": null,
   "id": "under-buying",
   "metadata": {},
   "outputs": [],
   "source": []
  },
  {
   "cell_type": "code",
   "execution_count": null,
   "id": "industrial-discrimination",
   "metadata": {},
   "outputs": [],
   "source": []
  },
  {
   "cell_type": "code",
   "execution_count": null,
   "id": "careful-series",
   "metadata": {},
   "outputs": [],
   "source": []
  },
  {
   "cell_type": "code",
   "execution_count": null,
   "id": "substantial-antique",
   "metadata": {},
   "outputs": [],
   "source": []
  },
  {
   "cell_type": "markdown",
   "id": "applied-preview",
   "metadata": {},
   "source": [
    "### user_profiles"
   ]
  },
  {
   "cell_type": "code",
   "execution_count": 69,
   "id": "environmental-sodium",
   "metadata": {},
   "outputs": [
    {
     "name": "stdout",
     "output_type": "stream",
     "text": [
      "{\"ctime\":\"2019-01-14 14:43:44\",\"id\":\"15588946\",\"first_name\":\"Karina\",\"last_name\":\"Enokyan\",\"screen_name\":\"id15588946\",\"maiden_name\":\"\",\"nickname\":\"\",\"bdate\":\"20.1\",\"birth_date\":null,\"sex\":1,\"deactivated\":-1,\"is_closed\":null,\"verified\":0,\"followers_count\":null,\"status\":\"http:\\/\\/vk.com\\/pomosh_selene\",\"city_id\":1,\"city_title\":\"Moscow\",\"country_id\":1,\"country_title\":\"Russia\",\"mobile_phone\":null,\"home_phone\":null,\"tv\":null,\"twitter\":null,\"livejournal\":null,\"facebook\":null,\"site\":null,\"skype\":null,\"instagram\":null,\"about\":null,\"activities\":null,\"books\":null,\"home_town\":null,\"interests\":null,\"movies\":null,\"music\":null,\"games\":null,\"quotes\":null,\"domain\":\"id15588946\",\"personal_alcohol\":null,\"personal_inspired_by\":null,\"personal_langs\":[],\"personal_life_main\":null,\"personal_people_main\":null,\"personal_political\":null,\"personal_religion\":null,\"personal_smoking\":null,\"relation\":null,\"relation_partner_first_name\":null,\"relation_partner_id\":null,\"relation_partner_last_name\":null,\"photo_id\":null,\"photo_max_url\":\"https:\\/\\/pp.userapi.com\\/c850128\\/v850128050\\/9de5f\\/pfsiVU6iiyo.jpg\",\"crop_photo_album_id\":\"-6\",\"crop_photo_date\":\"2019-01-01 00:56:03\",\"crop_photo_id\":\"456239745\",\"crop_photo_lat\":null,\"crop_photo_long\":null,\"crop_photo_owner_id\":\"15588946\",\"crop_photo_max\":2560,\"crop_photo_max_url\":\"https:\\/\\/pp.userapi.com\\/c850128\\/v850128050\\/9de58\\/-jsuTA3gwl0.jpg\",\"crop_photo_post_id\":\"3440\",\"crop_photo_text\":\"\",\"occupation_id\":null,\"occupation_name\":null,\"occupation_type\":null,\"education_form\":null,\"education_status\":null,\"faculty\":null,\"faculty_name\":null,\"graduation\":null,\"university\":null,\"university_name\":null,\"relatives.user_id\":[],\"relatives.name\":[],\"relatives.type\":[],\"career.company\":[],\"career.group_id\":[],\"career.city_id\":[],\"career.country_id\":[],\"career.position\":[],\"career.from\":[],\"career.until\":[],\"schools.city_id\":[],\"schools.class\":[],\"schools.country_id\":[],\"schools.id\":[],\"schools.name\":[],\"schools.speciality\":[],\"schools.type\":[],\"schools.type_str\":[],\"schools.year_from\":[],\"schools.year_graduated\":[],\"schools.year_to\":[],\"universities.chair\":[],\"universities.chair_name\":[],\"universities.education_form\":[],\"universities.education_status\":[],\"universities.faculty\":[],\"universities.faculty_name\":[],\"universities.graduation\":[],\"universities.id\":[],\"universities.name\":[]}\r\n",
      "{\"ctime\":\"2019-01-14 14:43:45\",\"id\":\"15590249\",\"first_name\":\"Sanya\",\"last_name\":\"Krupy\",\"screen_name\":null,\"maiden_name\":null,\"nickname\":null,\"bdate\":null,\"birth_date\":null,\"sex\":2,\"deactivated\":1,\"is_closed\":null,\"verified\":-1,\"followers_count\":null,\"status\":null,\"city_id\":-1,\"city_title\":null,\"country_id\":-1,\"country_title\":null,\"mobile_phone\":null,\"home_phone\":null,\"tv\":null,\"twitter\":null,\"livejournal\":null,\"facebook\":null,\"site\":null,\"skype\":null,\"instagram\":null,\"about\":null,\"activities\":null,\"books\":null,\"home_town\":null,\"interests\":null,\"movies\":null,\"music\":null,\"games\":null,\"quotes\":null,\"domain\":\"id15590249\",\"personal_alcohol\":null,\"personal_inspired_by\":null,\"personal_langs\":[],\"personal_life_main\":null,\"personal_people_main\":null,\"personal_political\":null,\"personal_religion\":null,\"personal_smoking\":null,\"relation\":null,\"relation_partner_first_name\":null,\"relation_partner_id\":null,\"relation_partner_last_name\":null,\"photo_id\":null,\"photo_max_url\":\"https:\\/\\/vk.com\\/images\\/deactivated_400.png\",\"crop_photo_album_id\":null,\"crop_photo_date\":null,\"crop_photo_id\":null,\"crop_photo_lat\":null,\"crop_photo_long\":null,\"crop_photo_owner_id\":null,\"crop_photo_max\":null,\"crop_photo_max_url\":null,\"crop_photo_post_id\":null,\"crop_photo_text\":null,\"occupation_id\":null,\"occupation_name\":null,\"occupation_type\":null,\"education_form\":null,\"education_status\":null,\"faculty\":null,\"faculty_name\":null,\"graduation\":null,\"university\":null,\"university_name\":null,\"relatives.user_id\":[],\"relatives.name\":[],\"relatives.type\":[],\"career.company\":[],\"career.group_id\":[],\"career.city_id\":[],\"career.country_id\":[],\"career.position\":[],\"career.from\":[],\"career.until\":[],\"schools.city_id\":[],\"schools.class\":[],\"schools.country_id\":[],\"schools.id\":[],\"schools.name\":[],\"schools.speciality\":[],\"schools.type\":[],\"schools.type_str\":[],\"schools.year_from\":[],\"schools.year_graduated\":[],\"schools.year_to\":[],\"universities.chair\":[],\"universities.chair_name\":[],\"universities.education_form\":[],\"universities.education_status\":[],\"universities.faculty\":[],\"universities.faculty_name\":[],\"universities.graduation\":[],\"universities.id\":[],\"universities.name\":[]}\r\n"
     ]
    }
   ],
   "source": [
    "!head -2 ~/shared-data/clickhouse_data/user_profiles.json"
   ]
  },
  {
   "cell_type": "code",
   "execution_count": null,
   "id": "general-ladder",
   "metadata": {},
   "outputs": [],
   "source": [
    "client1.execute(\"CREATE TABLE task.user_profiles ON CLUSTER kube_clickhouse_cluster\\\n",
    "(\\\n",
    "    ctime DateTime,\\\n",
    "    id Int64,\\\n",
    "    first_name String,\\\n",
    "    last_name String,\\\n",
    "    screen_name Nullable(String),\\\n",
    "    maiden_name Nullable(String),\\\n",
    "    nickname Nullable(String),\\\n",
    "    bdate Nullable(String),\\\n",
    "    birth_date Nullable(UInt32),\\\n",
    "    sex Int16,\\\n",
    "    deactivated Int8,\\\n",
    "    is_closed Nullable(Int8),\\\n",
    "    verified Int8,\\\n",
    "    followers_count Nullable(Int64),\\\n",
    "    status Nullable(String),\\\n",
    "    city_id Int32,\\\n",
    "    city_title Nullable(String),\\\n",
    "    country_id Int32,\\\n",
    "    country_title Nullable(String),\\\n",
    "    mobile_phone Nullable(String),\\\n",
    "    home_phone Nullable(String),\\\n",
    "    tv Nullable(String),\\\n",
    "    twitter Nullable(String),\\\n",
    "    livejournal Nullable(String),\\\n",
    "    facebook Nullable(String),\\\n",
    "    site Nullable(String),\\\n",
    "    skype Nullable(String),\\\n",
    "    instagram Nullable(String),\\\n",
    "    about Nullable(String),\\\n",
    "    activities Nullable(String),\\\n",
    "    books Nullable(String),\\\n",
    "    home_town Nullable(String),\\\n",
    "    interests Nullable(String),\\\n",
    "    movies Nullable(String),\\\n",
    "    music Nullable(String),\\\n",
    "    games Nullable(String),\\\n",
    "    quotes Nullable(String),\\\n",
    "    domain Nullable(String),\\\n",
    "    personal_alcohol Nullable(Int8),\\\n",
    "    personal_inspired_by Nullable(String),\\\n",
    "    personal_langs Array(Nullable(String)),\\\n",
    "    personal_life_main Nullable(Int8),\\\n",
    "    personal_people_main Nullable(Int8),\\\n",
    "    personal_political Nullable(Int16),\\\n",
    "    personal_religion Nullable(String),\\\n",
    "    personal_smoking Nullable(Int8),\\\n",
    "    relation Nullable(Int8),\\\n",
    "    relation_partner_first_name Nullable(String),\\\n",
    "    relation_partner_id Nullable(Int64),\\\n",
    "    relation_partner_last_name Nullable(String),\\\n",
    "    photo_id Nullable(String),\\\n",
    "    photo_max_url Nullable(String),\\\n",
    "    crop_photo_album_id Nullable(Int64),\\\n",
    "    crop_photo_date Nullable(DateTime),\\\n",
    "    crop_photo_id Nullable(Int64),\\\n",
    "    crop_photo_lat Nullable(Float64),\\\n",
    "    crop_photo_long Nullable(Float64),\\\n",
    "    crop_photo_owner_id Nullable(Int64),\\\n",
    "    crop_photo_max Nullable(Int32),\\\n",
    "    crop_photo_max_url Nullable(String),\\\n",
    "    crop_photo_post_id Nullable(Int64),\\\n",
    "    crop_photo_text Nullable(String),\\\n",
    "    occupation_id Nullable(Int64),\\\n",
    "    occupation_name Nullable(String),\\\n",
    "    occupation_type Nullable(String),\\\n",
    "    education_form Nullable(Int8),\\\n",
    "    education_status Nullable(String),\\\n",
    "    faculty Nullable(Int32),\\\n",
    "    faculty_name Nullable(String),\\\n",
    "    graduation Nullable(UInt32),\\\n",
    "    university Nullable(Int32),\\\n",
    "    university_name Nullable(String),\\\n",
    "\\\n",
    "    relatives Nested\\\n",
    "    (\\\n",
    "        user_id Nullable(Int64),\\\n",
    "        name Nullable(String),\\\n",
    "        type Nullable(String)\\\n",
    "    ),\\\n",
    "\\\n",
    "    career Nested\\\n",
    "    (\\\n",
    "        company Nullable(String),\\\n",
    "        group_id Nullable(Int64),\\\n",
    "        city_id Nullable(Int32),\\\n",
    "        country_id Nullable(Int32),\\\n",
    "        position Nullable(String),\\\n",
    "        from Nullable(UInt32),\\\n",
    "        until Nullable(UInt32)\\\n",
    "    ),\\\n",
    "\\\n",
    "    schools Nested\\\n",
    "    (\\\n",
    "        city_id Nullable(Int32),\\\n",
    "        class Nullable(String),\\\n",
    "        country_id Nullable(Int32),\\\n",
    "        id Nullable(Int32),\\\n",
    "        name Nullable(String),\\\n",
    "        speciality Nullable(String),\\\n",
    "        type Nullable(UInt8),\\\n",
    "        type_str Nullable(String),\\\n",
    "        year_from Nullable(UInt16),\\\n",
    "        year_graduated Nullable(UInt16),\\\n",
    "        year_to Nullable(UInt16)\\\n",
    "    ),\\\n",
    "\\\n",
    "    universities Nested\\\n",
    "    (\\\n",
    "        chair Nullable(UInt32),\\\n",
    "        chair_name Nullable(String),\\\n",
    "        education_form Nullable(String),\\\n",
    "        education_status Nullable(String),\\\n",
    "        faculty Nullable(UInt32),\\\n",
    "        faculty_name Nullable(String),\\\n",
    "        graduation Nullable(UInt32),\\\n",
    "        id Nullable(Int32),\\\n",
    "        name Nullable(String)\\\n",
    "    )\\\n",
    ")\\\n",
    "ENGINE = ReplicatedMergeTree('/user_profiles', 'user_profiles')\\\n",
    "ORDER BY (id);\")"
   ]
  },
  {
   "cell_type": "code",
   "execution_count": 83,
   "id": "focal-network",
   "metadata": {},
   "outputs": [
    {
     "data": {
      "text/plain": [
       "[('clickhouse-2', 9000, 0, '', 2, 0),\n",
       " ('clickhouse-1', 9000, 0, '', 1, 0),\n",
       " ('clickhouse-3', 9000, 0, '', 0, 0)]"
      ]
     },
     "execution_count": 83,
     "metadata": {},
     "output_type": "execute_result"
    }
   ],
   "source": [
    "client1.execute(\"CREATE TABLE task.ddl_user_profiles ON CLUSTER kube_clickhouse_cluster AS task.user_profiles ENGINE = Distributed(kube_clickhouse_cluster, task, user_profiles, xxHash64(id));\")"
   ]
  },
  {
   "cell_type": "code",
   "execution_count": 84,
   "id": "independent-topic",
   "metadata": {},
   "outputs": [
    {
     "data": {
      "text/plain": [
       "[('clickhouse-2', 9000, 0, '', 2, 0),\n",
       " ('clickhouse-1', 9000, 0, '', 1, 0),\n",
       " ('clickhouse-3', 9000, 0, '', 0, 0)]"
      ]
     },
     "execution_count": 84,
     "metadata": {},
     "output_type": "execute_result"
    }
   ],
   "source": [
    "client1.execute(\"CREATE TABLE task.user_profiles_kafka ON CLUSTER kube_clickhouse_cluster\\\n",
    "(\\\n",
    "    ctime DateTime,\\\n",
    "    id Int64,\\\n",
    "    first_name String,\\\n",
    "    last_name String,\\\n",
    "    screen_name Nullable(String),\\\n",
    "    maiden_name Nullable(String),\\\n",
    "    nickname Nullable(String),\\\n",
    "    bdate Nullable(String),\\\n",
    "    birth_date Nullable(UInt32),\\\n",
    "    sex Int16,\\\n",
    "    deactivated Int8,\\\n",
    "    is_closed Nullable(Int8),\\\n",
    "    verified Int8,\\\n",
    "    followers_count Nullable(Int64),\\\n",
    "    status Nullable(String),\\\n",
    "    city_id Int32,\\\n",
    "    city_title Nullable(String),\\\n",
    "    country_id Int32,\\\n",
    "    country_title Nullable(String),\\\n",
    "    mobile_phone Nullable(String),\\\n",
    "    home_phone Nullable(String),\\\n",
    "    tv Nullable(String),\\\n",
    "    twitter Nullable(String),\\\n",
    "    livejournal Nullable(String),\\\n",
    "    facebook Nullable(String),\\\n",
    "    site Nullable(String),\\\n",
    "    skype Nullable(String),\\\n",
    "    instagram Nullable(String),\\\n",
    "    about Nullable(String),\\\n",
    "    activities Nullable(String),\\\n",
    "    books Nullable(String),\\\n",
    "    home_town Nullable(String),\\\n",
    "    interests Nullable(String),\\\n",
    "    movies Nullable(String),\\\n",
    "    music Nullable(String),\\\n",
    "    games Nullable(String),\\\n",
    "    quotes Nullable(String),\\\n",
    "    domain Nullable(String),\\\n",
    "    personal_alcohol Nullable(Int8),\\\n",
    "    personal_inspired_by Nullable(String),\\\n",
    "    personal_langs Array(Nullable(String)),\\\n",
    "    personal_life_main Nullable(Int8),\\\n",
    "    personal_people_main Nullable(Int8),\\\n",
    "    personal_political Nullable(Int16),\\\n",
    "    personal_religion Nullable(String),\\\n",
    "    personal_smoking Nullable(Int8),\\\n",
    "    relation Nullable(Int8),\\\n",
    "    relation_partner_first_name Nullable(String),\\\n",
    "    relation_partner_id Nullable(Int64),\\\n",
    "    relation_partner_last_name Nullable(String),\\\n",
    "    photo_id Nullable(String),\\\n",
    "    photo_max_url Nullable(String),\\\n",
    "    crop_photo_album_id Nullable(Int64),\\\n",
    "    crop_photo_date Nullable(DateTime),\\\n",
    "    crop_photo_id Nullable(Int64),\\\n",
    "    crop_photo_lat Nullable(Float64),\\\n",
    "    crop_photo_long Nullable(Float64),\\\n",
    "    crop_photo_owner_id Nullable(Int64),\\\n",
    "    crop_photo_max Nullable(Int32),\\\n",
    "    crop_photo_max_url Nullable(String),\\\n",
    "    crop_photo_post_id Nullable(Int64),\\\n",
    "    crop_photo_text Nullable(String),\\\n",
    "    occupation_id Nullable(Int64),\\\n",
    "    occupation_name Nullable(String),\\\n",
    "    occupation_type Nullable(String),\\\n",
    "    education_form Nullable(Int8),\\\n",
    "    education_status Nullable(String),\\\n",
    "    faculty Nullable(Int32),\\\n",
    "    faculty_name Nullable(String),\\\n",
    "    graduation Nullable(UInt32),\\\n",
    "    university Nullable(Int32),\\\n",
    "    university_name Nullable(String),\\\n",
    "\\\n",
    "    relatives Nested\\\n",
    "    (\\\n",
    "        user_id Nullable(Int64),\\\n",
    "        name Nullable(String),\\\n",
    "        type Nullable(String)\\\n",
    "    ),\\\n",
    "\\\n",
    "    career Nested\\\n",
    "    (\\\n",
    "        company Nullable(String),\\\n",
    "        group_id Nullable(Int64),\\\n",
    "        city_id Nullable(Int32),\\\n",
    "        country_id Nullable(Int32),\\\n",
    "        position Nullable(String),\\\n",
    "        from Nullable(UInt32),\\\n",
    "        until Nullable(UInt32)\\\n",
    "    ),\\\n",
    "\\\n",
    "    schools Nested\\\n",
    "    (\\\n",
    "        city_id Nullable(Int32),\\\n",
    "        class Nullable(String),\\\n",
    "        country_id Nullable(Int32),\\\n",
    "        id Nullable(Int32),\\\n",
    "        name Nullable(String),\\\n",
    "        speciality Nullable(String),\\\n",
    "        type Nullable(UInt8),\\\n",
    "        type_str Nullable(String),\\\n",
    "        year_from Nullable(UInt16),\\\n",
    "        year_graduated Nullable(UInt16),\\\n",
    "        year_to Nullable(UInt16)\\\n",
    "    ),\\\n",
    "\\\n",
    "    universities Nested\\\n",
    "    (\\\n",
    "        chair Nullable(UInt32),\\\n",
    "        chair_name Nullable(String),\\\n",
    "        education_form Nullable(String),\\\n",
    "        education_status Nullable(String),\\\n",
    "        faculty Nullable(UInt32),\\\n",
    "        faculty_name Nullable(String),\\\n",
    "        graduation Nullable(UInt32),\\\n",
    "        id Nullable(Int32),\\\n",
    "        name Nullable(String)\\\n",
    "    )\\\n",
    ")\\\n",
    "ENGINE = Kafka('kafka-svc:9092', 'task_user_profiles', 'Cgroup') SETTINGS kafka_format = 'JSONEachRow', kafka_row_delimiter = '\\n';\")"
   ]
  },
  {
   "cell_type": "code",
   "execution_count": 85,
   "id": "terminal-colony",
   "metadata": {},
   "outputs": [
    {
     "data": {
      "text/plain": [
       "[]"
      ]
     },
     "execution_count": 85,
     "metadata": {},
     "output_type": "execute_result"
    }
   ],
   "source": [
    "# creating mv to transfer data between kafka and ddl table.\n",
    "client1.execute(\"CREATE MATERIALIZED VIEW task.mv_kafka_user_profiles TO task.ddl_user_profiles AS SELECT * FROM task.user_profiles_kafka;\")"
   ]
  },
  {
   "cell_type": "code",
   "execution_count": null,
   "id": "worth-suite",
   "metadata": {},
   "outputs": [],
   "source": [
    "# inserting json data into likeskafka table.\n",
    "# opt/kafka_2.13-2.7.0/bin/kafka-console-producer.sh --topic task_user_profiles --bootstrap-server kafka-svc:9092 < shared-data/clickhouse_data/user_profiles.json"
   ]
  },
  {
   "cell_type": "code",
   "execution_count": 180,
   "id": "confused-status",
   "metadata": {},
   "outputs": [
    {
     "data": {
      "text/plain": [
       "[('Russia', 482.4599941383353, 19753842),\n",
       " ('Россия', 470.7341567291312, 5526419),\n",
       " ('Ukraine', 526.7338690041393, 4326592),\n",
       " (None, 365.38378746594003, 2681917),\n",
       " ('Украина', 559.2058954890576, 1252062)]"
      ]
     },
     "execution_count": 180,
     "metadata": {},
     "output_type": "execute_result"
    }
   ],
   "source": [
    "client1.execute(\"SELECT \\\n",
    "    country_title, \\\n",
    "    avg(followers_count) AS followers_count_avg, \\\n",
    "    sum(followers_count) AS followers_count_sum FROM \\\n",
    "    task.user_profiles WHERE (followers_count > 0) GROUP BY country_title \\\n",
    "    order by followers_count_sum desc limit 5;\")"
   ]
  },
  {
   "cell_type": "code",
   "execution_count": 60,
   "id": "exotic-rider",
   "metadata": {},
   "outputs": [
    {
     "data": {
      "text/plain": [
       "[('clickhouse-2', 9000, 0, '', 2, 0),\n",
       " ('clickhouse-3', 9000, 0, '', 1, 0),\n",
       " ('clickhouse-1', 9000, 0, '', 0, 0)]"
      ]
     },
     "execution_count": 60,
     "metadata": {},
     "output_type": "execute_result"
    }
   ],
   "source": [
    "client1.execute('drop table task.ddl_mv1_user_profiles ON CLUSTER kube_clickhouse_cluster')"
   ]
  },
  {
   "cell_type": "code",
   "execution_count": 59,
   "id": "animal-entrance",
   "metadata": {},
   "outputs": [
    {
     "data": {
      "text/plain": [
       "[('clickhouse-2', 9000, 0, '', 2, 1),\n",
       " ('clickhouse-3', 9000, 0, '', 1, 1),\n",
       " ('clickhouse-1', 9000, 0, '', 0, 0)]"
      ]
     },
     "execution_count": 59,
     "metadata": {},
     "output_type": "execute_result"
    }
   ],
   "source": [
    "# creating materlized view 1 for posts table.\n",
    "client1.execute(\"CREATE MATERIALIZED VIEW task.mv1_user_profiles ON CLUSTER kube_clickhouse_cluster \\\n",
    "ENGINE = SummingMergeTree() \\\n",
    "ORDER BY (country_id) \\\n",
    "POPULATE \\\n",
    "AS SELECT \\\n",
    "    country_id, country_title, \\\n",
    "    avgState(followers_count) AS followers_count_avg, \\\n",
    "    sumState(followers_count) AS followers_count_sum FROM \\\n",
    "    task.user_profiles WHERE (followers_count > 0) GROUP BY country_title, country_id;\")"
   ]
  },
  {
   "cell_type": "code",
   "execution_count": 61,
   "id": "moved-builder",
   "metadata": {},
   "outputs": [
    {
     "data": {
      "text/plain": [
       "[('clickhouse-2', 9000, 0, '', 2, 0),\n",
       " ('clickhouse-1', 9000, 0, '', 1, 0),\n",
       " ('clickhouse-3', 9000, 0, '', 0, 0)]"
      ]
     },
     "execution_count": 61,
     "metadata": {},
     "output_type": "execute_result"
    }
   ],
   "source": [
    "client1.execute(\"CREATE TABLE task.ddl_mv1_user_profiles ON CLUSTER kube_clickhouse_cluster AS task.mv1_user_profiles ENGINE = Distributed(kube_clickhouse_cluster, task, mv1_user_profiles);\")"
   ]
  },
  {
   "cell_type": "code",
   "execution_count": 188,
   "id": "charged-simon",
   "metadata": {},
   "outputs": [
    {
     "data": {
      "text/plain": [
       "[('Dobrodushnaya', 742231, 742231, 742231.0, 742231),\n",
       " ('Raytman', 315512, 315512, 315512.0, 315512),\n",
       " ('Debolskaya', 196114, 196114, 196114.0, 196114),\n",
       " ('Nabatchikova', 161697, 161697, 161697.0, 161697),\n",
       " ('Mirbi', 156644, 156644, 156644.0, 156644)]"
      ]
     },
     "execution_count": 188,
     "metadata": {},
     "output_type": "execute_result"
    }
   ],
   "source": [
    "client1.execute(\"SELECT \\\n",
    "    last_name, \\\n",
    "    min(followers_count) AS followers_count_min, \\\n",
    "    max(followers_count) AS followers_count_max, \\\n",
    "    avg(followers_count) AS followers_count_avg, \\\n",
    "    sum(followers_count) AS followers_count_sum FROM, \\\n",
    "    task.user_profiles WHERE (followers_count > 0) GROUP BY last_name order by followers_count_avg desc limit 5;\")"
   ]
  },
  {
   "cell_type": "code",
   "execution_count": 66,
   "id": "promotional-amazon",
   "metadata": {},
   "outputs": [
    {
     "data": {
      "text/plain": [
       "[('clickhouse-3', 9000, 0, '', 2, 0),\n",
       " ('clickhouse-2', 9000, 0, '', 1, 0),\n",
       " ('clickhouse-1', 9000, 0, '', 0, 0)]"
      ]
     },
     "execution_count": 66,
     "metadata": {},
     "output_type": "execute_result"
    }
   ],
   "source": [
    "client1.execute('drop table task.ddl_mv2_user_profiles ON CLUSTER kube_clickhouse_cluster')"
   ]
  },
  {
   "cell_type": "code",
   "execution_count": null,
   "id": "pressing-island",
   "metadata": {},
   "outputs": [],
   "source": [
    "CREATE MATERIALIZED VIEW task.mv2_user_profiles \\\n",
    "ENGINE = AggregatingMergeTree() \\\n",
    "ORDER BY (last_name) \\\n",
    "POPULATE \\\n",
    "AS SELECT \\\n",
    "    last_name, \\\n",
    "    minState(followers_count) AS followers_count_min, \\\n",
    "    maxState(followers_count) AS followers_count_max, \\\n",
    "    avgState(followers_count) AS followers_count_avg, \\\n",
    "    sumState(followers_count) AS followers_count_sum FROM \\\n",
    "    task.user_profiles WHERE (followers_count > 0) GROUP BY last_name;"
   ]
  },
  {
   "cell_type": "code",
   "execution_count": 64,
   "id": "viral-delta",
   "metadata": {},
   "outputs": [
    {
     "data": {
      "text/plain": [
       "[('clickhouse-1', 9000, 0, '', 2, 2),\n",
       " ('clickhouse-2', 9000, 0, '', 1, 0),\n",
       " ('clickhouse-3', 9000, 0, '', 0, 0)]"
      ]
     },
     "execution_count": 64,
     "metadata": {},
     "output_type": "execute_result"
    }
   ],
   "source": [
    "# creating materlized view 2 for posts table.\n",
    "client1.execute(\"CREATE MATERIALIZED VIEW task.mv2_user_profiles ON CLUSTER kube_clickhouse_cluster \\\n",
    "ENGINE = SummingMergeTree() \\\n",
    "ORDER BY (last_name) \\\n",
    "POPULATE \\\n",
    "AS SELECT \\\n",
    "    last_name, \\\n",
    "    minState(followers_count) AS followers_count_min, \\\n",
    "    maxState(followers_count) AS followers_count_max, \\\n",
    "    avgState(followers_count) AS followers_count_avg, \\\n",
    "    sumState(followers_count) AS followers_count_sum FROM \\\n",
    "    task.user_profiles WHERE (followers_count > 0) GROUP BY last_name;\")"
   ]
  },
  {
   "cell_type": "code",
   "execution_count": 67,
   "id": "generic-singing",
   "metadata": {
    "scrolled": false
   },
   "outputs": [
    {
     "data": {
      "text/plain": [
       "[('clickhouse-2', 9000, 0, '', 2, 0),\n",
       " ('clickhouse-3', 9000, 0, '', 1, 0),\n",
       " ('clickhouse-1', 9000, 0, '', 0, 0)]"
      ]
     },
     "execution_count": 67,
     "metadata": {},
     "output_type": "execute_result"
    }
   ],
   "source": [
    "client1.execute(\"CREATE TABLE task.ddl_mv2_user_profiles ON CLUSTER kube_clickhouse_cluster AS task.mv2_user_profiles ENGINE = Distributed(kube_clickhouse_cluster, task, mv2_user_profiles);\")"
   ]
  },
  {
   "cell_type": "code",
   "execution_count": null,
   "id": "nearby-vitamin",
   "metadata": {},
   "outputs": [],
   "source": [
    "CREATE TABLE task.ddl_mv2_user_profiles AS task.mv2_user_profiles ENGINE = Distributed(kube_clickhouse_cluster, task, mv2_user_profiles);"
   ]
  },
  {
   "cell_type": "markdown",
   "id": "physical-preservation",
   "metadata": {},
   "source": [
    "## Explantion about the work\n",
    "1. Table create using mergetree likes, and followers.\n",
    "2. Table created using replications are friends, posts and user_profiles. (zookeeper macro settings are fine in config.xml file)\n",
    "3. Kafka engine is used to import externam data into the tables.\n",
    "4. for each table 2 materlized views are build and the views are distributed. total materilized views(9).\n",
    "5. All tables and materilized views are distributed.\n",
    "6. User and Role are created. (Authentication settings have been set in the users.xml file)\n",
    "\n",
    "#### All the quaries for table, user, role, materilized views, distributed tables, replications, and inserting data into tables using kafka engine(commented) are mentioned above."
   ]
  },
  {
   "cell_type": "markdown",
   "id": "sharing-theta",
   "metadata": {},
   "source": [
    "### Sample quaries creating materlized views with joins and materlized views with joining two or more tables."
   ]
  },
  {
   "cell_type": "code",
   "execution_count": 68,
   "id": "criminal-vector",
   "metadata": {},
   "outputs": [
    {
     "data": {
      "text/plain": [
       "[]"
      ]
     },
     "execution_count": 68,
     "metadata": {},
     "output_type": "execute_result"
    }
   ],
   "source": [
    "client1.execute(\"use task\")"
   ]
  },
  {
   "cell_type": "code",
   "execution_count": 69,
   "id": "union-closing",
   "metadata": {},
   "outputs": [
    {
     "data": {
      "text/plain": [
       "[('.inner.dist_mv_likesProfiles',),\n",
       " ('.inner.mv1_followers',),\n",
       " ('.inner.mv1_friends',),\n",
       " ('.inner.mv1_likes',),\n",
       " ('.inner.mv1_posts',),\n",
       " ('.inner.mv1_user_profiles',),\n",
       " ('.inner.mv2_likes',),\n",
       " ('.inner.mv2_posts',),\n",
       " ('.inner.mv2_user_profiles',),\n",
       " ('.inner.mv_likesProfiles',),\n",
       " ('.inner.mv_likes_profiles',),\n",
       " ('ddl_followers',),\n",
       " ('ddl_friends',),\n",
       " ('ddl_likes',),\n",
       " ('ddl_mv1_followers',),\n",
       " ('ddl_mv1_friends',),\n",
       " ('ddl_mv1_likes',),\n",
       " ('ddl_mv1_posts',),\n",
       " ('ddl_mv1_user_profiles',),\n",
       " ('ddl_mv2_likes',),\n",
       " ('ddl_mv2_posts',),\n",
       " ('ddl_mv2_user_profiles',),\n",
       " ('ddl_mv_likesProfiles',),\n",
       " ('ddl_mv_likes_profiles',),\n",
       " ('ddl_posts',),\n",
       " ('ddl_user_profiles',),\n",
       " ('dist_mv_likesProfiles',),\n",
       " ('followers',),\n",
       " ('followers_kafka',),\n",
       " ('friends',),\n",
       " ('friends_kafka',),\n",
       " ('likes',),\n",
       " ('likes_kafka',),\n",
       " ('mv1_followers',),\n",
       " ('mv1_friends',),\n",
       " ('mv1_likes',),\n",
       " ('mv1_posts',),\n",
       " ('mv1_user_profiles',),\n",
       " ('mv2_likes',),\n",
       " ('mv2_posts',),\n",
       " ('mv2_user_profiles',),\n",
       " ('mv_kafka_followers',),\n",
       " ('mv_kafka_friends',),\n",
       " ('mv_kafka_likes',),\n",
       " ('mv_kafka_posts',),\n",
       " ('mv_kafka_user_profiles',),\n",
       " ('mv_likesProfiles',),\n",
       " ('mv_likes_profiles',),\n",
       " ('posts',),\n",
       " ('posts_kafka',),\n",
       " ('user_profiles',),\n",
       " ('user_profiles_kafka',)]"
      ]
     },
     "execution_count": 69,
     "metadata": {},
     "output_type": "execute_result"
    }
   ],
   "source": [
    "# displaying all the tables and views created\n",
    "client1.execute(\"show tables\")"
   ]
  },
  {
   "cell_type": "code",
   "execution_count": 195,
   "id": "improved-current",
   "metadata": {
    "scrolled": true
   },
   "outputs": [
    {
     "data": {
      "text/plain": [
       "[('post',\n",
       "  1666872,\n",
       "  3040,\n",
       "  1,\n",
       "  datetime.datetime(2019, 2, 19, 16, 28),\n",
       "  datetime.datetime(1970, 1, 1, 0, 0),\n",
       "  datetime.datetime(1970, 1, 1, 0, 0)),\n",
       " ('post',\n",
       "  1666872,\n",
       "  4267,\n",
       "  1,\n",
       "  datetime.datetime(2019, 2, 19, 16, 28, 2),\n",
       "  datetime.datetime(1970, 1, 1, 0, 0),\n",
       "  datetime.datetime(1970, 1, 1, 0, 0)),\n",
       " ('post',\n",
       "  1666872,\n",
       "  6382,\n",
       "  2,\n",
       "  datetime.datetime(2019, 2, 19, 16, 28),\n",
       "  datetime.datetime(1970, 1, 1, 0, 0),\n",
       "  datetime.datetime(1970, 1, 1, 0, 0))]"
      ]
     },
     "execution_count": 195,
     "metadata": {},
     "output_type": "execute_result"
    }
   ],
   "source": [
    "# sample quary displaying the containts of likes table\n",
    "client1.execute(\"select * from likes limit 3\")"
   ]
  },
  {
   "cell_type": "code",
   "execution_count": 204,
   "id": "exclusive-superintendent",
   "metadata": {},
   "outputs": [
    {
     "data": {
      "text/plain": [
       "[(268735255, 'Аня', 31082),\n",
       " (205266925, 'Lana', 20968),\n",
       " (39608712, 'Наташа', 16919),\n",
       " (174493123, 'Angela', 16358),\n",
       " (188817476, 'Марина', 16346)]"
      ]
     },
     "execution_count": 204,
     "metadata": {},
     "output_type": "execute_result"
    }
   ],
   "source": [
    "client1.execute(\"SELECT liker_id, first_name, count() as cnt FROM \\\n",
    "( \\\n",
    "SELECT * FROM task.likes as l \\\n",
    "GLOBAL INNER JOIN task.user_profiles as p \\\n",
    "ON l.liker_id = p.id \\\n",
    ") \\\n",
    "GROUP BY liker_id, first_name order by cnt desc limit 5;\")"
   ]
  },
  {
   "cell_type": "code",
   "execution_count": 225,
   "id": "acute-living",
   "metadata": {},
   "outputs": [
    {
     "data": {
      "text/plain": [
       "[(141042511, 'Анастасия', 119986),\n",
       " (132131032, 'Денис', 97031),\n",
       " (30052656, 'Валерия', 82405),\n",
       " (151432057, 'Valentina', 70073),\n",
       " (1881674, 'Аня', 63377)]"
      ]
     },
     "execution_count": 225,
     "metadata": {},
     "output_type": "execute_result"
    }
   ],
   "source": [
    "client1.execute(\"SELECT liker_id, first_name, count() as cnt FROM \\\n",
    "( \\\n",
    "SELECT * FROM task.ddl_likes as l \\\n",
    "GLOBAL INNER JOIN task.ddl_user_profiles as p \\\n",
    "ON l.liker_id = p.id \\\n",
    ") \\\n",
    "GROUP BY liker_id, first_name order by cnt desc limit 5;\")"
   ]
  },
  {
   "cell_type": "code",
   "execution_count": 72,
   "id": "becoming-vietnam",
   "metadata": {},
   "outputs": [
    {
     "data": {
      "text/plain": [
       "[('clickhouse-2', 9000, 0, '', 2, 0),\n",
       " ('clickhouse-1', 9000, 0, '', 1, 0),\n",
       " ('clickhouse-3', 9000, 0, '', 0, 0)]"
      ]
     },
     "execution_count": 72,
     "metadata": {},
     "output_type": "execute_result"
    }
   ],
   "source": [
    "client1.execute('drop table task.ddl_mv_likesProfiles ON CLUSTER kube_clickhouse_cluster')"
   ]
  },
  {
   "cell_type": "code",
   "execution_count": null,
   "id": "pacific-trademark",
   "metadata": {},
   "outputs": [],
   "source": [
    "CREATE MATERIALIZED VIEW task.mv_likesProfiles ON CLUSTER kube_clickhouse_cluster \\\n",
    "ENGINE = SummingMergeTree() \\\n",
    "ORDER BY (liker_id) \\\n",
    "POPULATE \\\n",
    "AS SELECT liker_id, first_name, countState() as cnt FROM \\\n",
    "( \\\n",
    "SELECT * FROM task.likes as l INNER JOIN task.user_profiles as p \\\n",
    "ON l.liker_id = p.id \\\n",
    ") \\\n",
    "GROUP BY liker_id, first_name;"
   ]
  },
  {
   "cell_type": "code",
   "execution_count": null,
   "id": "sized-joyce",
   "metadata": {},
   "outputs": [],
   "source": [
    "CREATE MATERIALIZED VIEW task.mv_likesProfiles \\\n",
    "ENGINE = AggregatingMergeTree() \\\n",
    "ORDER BY (liker_id) \\\n",
    "POPULATE \\\n",
    "AS SELECT liker_id, first_name, countState() as cnt FROM \\\n",
    "( \\\n",
    "SELECT * FROM task.likes as l INNER JOIN task.user_profiles as p \\\n",
    "ON l.liker_id = p.id \\\n",
    ") \\\n",
    "GROUP BY liker_id, first_name;"
   ]
  },
  {
   "cell_type": "code",
   "execution_count": 102,
   "id": "upset-quarterly",
   "metadata": {},
   "outputs": [
    {
     "ename": "ServerException",
     "evalue": "Code: 371.\nDB::Exception: There was an error on [clickhouse-1:9000]: An error occurred before execution: Code: 371, e.displayText() = DB::Exception: There are two exactly the same ClickHouse instances clickhouse-1:9000 in cluster kube_clickhouse_cluster (version 20.5.2.7 (official build)). Stack trace:\n\n0. Poco::Exception::Exception(std::__1::basic_string<char, std::__1::char_traits<char>, std::__1::allocator<char> > const&, int) @ 0x10ed0da0 in /usr/bin/clickhouse\n1. DB::Exception::Exception(std::__1::basic_string<char, std::__1::char_traits<char>, std::__1::allocator<char> > const&, int) @ 0x95c923d in /usr/bin/clickhouse\n2. DB::DDLQueryStatusInputStream::readImpl() @ 0xdb760ab in /usr/bin/clickhouse\n3. DB::IBlockInputStream::read() @ 0xd999b1d in /usr/bin/clickhouse\n4. DB::AsynchronousBlockInputStream::calculate() @ 0xd98f9a7 in /usr/bin/clickhouse\n5. ? @ 0xd98fe08 in /usr/bin/clickhouse\n6. ThreadPoolImpl<ThreadFromGlobalPool>::worker(std::__1::__list_iterator<ThreadFromGlobalPool, void*>) @ 0x95f7987 in /usr/bin/clickhouse\n7. ThreadFromGlobalPool::ThreadFromGlobalPool<void ThreadPoolImpl<ThreadFromGlobalPool>::scheduleImpl<void>(std::__1::function<void ()>, int, std::__1::optional<unsigned long>)::'lambda1'()>(void&&, void ThreadPoolImpl<ThreadFromGlobalPool>::scheduleImpl<void>(std::__1::function<void ()>, int, std::__1::optional<unsigned long>)::'lambda1'()&&...)::'lambda'()::operator()() const @ 0x95f80fa in /usr/bin/clickhouse\n8. ThreadPoolImpl<std::__1::thread>::worker(std::__1::__list_iterator<std::__1::thread, void*>) @ 0x95f6e97 in /usr/bin/clickhouse\n9. ? @ 0x95f5383 in /usr/bin/clickhouse\n10. start_thread @ 0x76db in /lib/x86_64-linux-gnu/libpthread-2.27.so\n11. __clone @ 0x12188f in /lib/x86_64-linux-gnu/libc-2.27.so\n",
     "output_type": "error",
     "traceback": [
      "\u001b[0;31m---------------------------------------------------------------------------\u001b[0m",
      "\u001b[0;31mServerException\u001b[0m                           Traceback (most recent call last)",
      "\u001b[0;32m<ipython-input-102-60be5383d006>\u001b[0m in \u001b[0;36m<module>\u001b[0;34m\u001b[0m\n\u001b[1;32m      1\u001b[0m \u001b[0;31m# materilized view is being created to dislay liker id , first name and the likes they made.\u001b[0m\u001b[0;34m\u001b[0m\u001b[0;34m\u001b[0m\u001b[0;34m\u001b[0m\u001b[0m\n\u001b[0;32m----> 2\u001b[0;31m client1.execute(\"CREATE MATERIALIZED VIEW task.mv_likesProfiles ON CLUSTER kube_clickhouse_cluster \\\n\u001b[0m\u001b[1;32m      3\u001b[0m \u001b[0mENGINE\u001b[0m \u001b[0;34m=\u001b[0m \u001b[0mAggregatingMergeTree\u001b[0m\u001b[0;34m(\u001b[0m\u001b[0;34m)\u001b[0m\u001b[0;31m \u001b[0m\u001b[0;31m\\\u001b[0m\u001b[0;34m\u001b[0m\u001b[0;34m\u001b[0m\u001b[0m\n\u001b[1;32m      4\u001b[0m \u001b[0mORDER\u001b[0m \u001b[0mBY\u001b[0m \u001b[0;34m(\u001b[0m\u001b[0mliker_id\u001b[0m\u001b[0;34m)\u001b[0m\u001b[0;31m \u001b[0m\u001b[0;31m\\\u001b[0m\u001b[0;34m\u001b[0m\u001b[0;34m\u001b[0m\u001b[0m\n\u001b[1;32m      5\u001b[0m \u001b[0mPOPULATE\u001b[0m\u001b[0;31m \u001b[0m\u001b[0;31m\\\u001b[0m\u001b[0;34m\u001b[0m\u001b[0;34m\u001b[0m\u001b[0m\n",
      "\u001b[0;32m~/.local/lib/python3.8/site-packages/clickhouse_driver/client.py\u001b[0m in \u001b[0;36mexecute\u001b[0;34m(self, query, params, with_column_types, external_tables, query_id, settings, types_check, columnar)\u001b[0m\n\u001b[1;32m    246\u001b[0m                 )\n\u001b[1;32m    247\u001b[0m             \u001b[0;32melse\u001b[0m\u001b[0;34m:\u001b[0m\u001b[0;34m\u001b[0m\u001b[0;34m\u001b[0m\u001b[0m\n\u001b[0;32m--> 248\u001b[0;31m                 rv = self.process_ordinary_query(\n\u001b[0m\u001b[1;32m    249\u001b[0m                     \u001b[0mquery\u001b[0m\u001b[0;34m,\u001b[0m \u001b[0mparams\u001b[0m\u001b[0;34m=\u001b[0m\u001b[0mparams\u001b[0m\u001b[0;34m,\u001b[0m \u001b[0mwith_column_types\u001b[0m\u001b[0;34m=\u001b[0m\u001b[0mwith_column_types\u001b[0m\u001b[0;34m,\u001b[0m\u001b[0;34m\u001b[0m\u001b[0;34m\u001b[0m\u001b[0m\n\u001b[1;32m    250\u001b[0m                     \u001b[0mexternal_tables\u001b[0m\u001b[0;34m=\u001b[0m\u001b[0mexternal_tables\u001b[0m\u001b[0;34m,\u001b[0m\u001b[0;34m\u001b[0m\u001b[0;34m\u001b[0m\u001b[0m\n",
      "\u001b[0;32m~/.local/lib/python3.8/site-packages/clickhouse_driver/client.py\u001b[0m in \u001b[0;36mprocess_ordinary_query\u001b[0;34m(self, query, params, with_column_types, external_tables, query_id, types_check, columnar)\u001b[0m\n\u001b[1;32m    444\u001b[0m         self.connection.send_external_tables(external_tables,\n\u001b[1;32m    445\u001b[0m                                              types_check=types_check)\n\u001b[0;32m--> 446\u001b[0;31m         return self.receive_result(with_column_types=with_column_types,\n\u001b[0m\u001b[1;32m    447\u001b[0m                                    columnar=columnar)\n\u001b[1;32m    448\u001b[0m \u001b[0;34m\u001b[0m\u001b[0m\n",
      "\u001b[0;32m~/.local/lib/python3.8/site-packages/clickhouse_driver/client.py\u001b[0m in \u001b[0;36mreceive_result\u001b[0;34m(self, with_column_types, progress, columnar)\u001b[0m\n\u001b[1;32m    111\u001b[0m                 \u001b[0mgen\u001b[0m\u001b[0;34m,\u001b[0m \u001b[0mwith_column_types\u001b[0m\u001b[0;34m=\u001b[0m\u001b[0mwith_column_types\u001b[0m\u001b[0;34m,\u001b[0m \u001b[0mcolumnar\u001b[0m\u001b[0;34m=\u001b[0m\u001b[0mcolumnar\u001b[0m\u001b[0;34m\u001b[0m\u001b[0;34m\u001b[0m\u001b[0m\n\u001b[1;32m    112\u001b[0m             )\n\u001b[0;32m--> 113\u001b[0;31m             \u001b[0;32mreturn\u001b[0m \u001b[0mresult\u001b[0m\u001b[0;34m.\u001b[0m\u001b[0mget_result\u001b[0m\u001b[0;34m(\u001b[0m\u001b[0;34m)\u001b[0m\u001b[0;34m\u001b[0m\u001b[0;34m\u001b[0m\u001b[0m\n\u001b[0m\u001b[1;32m    114\u001b[0m \u001b[0;34m\u001b[0m\u001b[0m\n\u001b[1;32m    115\u001b[0m     \u001b[0;32mdef\u001b[0m \u001b[0miter_receive_result\u001b[0m\u001b[0;34m(\u001b[0m\u001b[0mself\u001b[0m\u001b[0;34m,\u001b[0m \u001b[0mwith_column_types\u001b[0m\u001b[0;34m=\u001b[0m\u001b[0;32mFalse\u001b[0m\u001b[0;34m)\u001b[0m\u001b[0;34m:\u001b[0m\u001b[0;34m\u001b[0m\u001b[0;34m\u001b[0m\u001b[0m\n",
      "\u001b[0;32m~/.local/lib/python3.8/site-packages/clickhouse_driver/result.py\u001b[0m in \u001b[0;36mget_result\u001b[0;34m(self)\u001b[0m\n\u001b[1;32m     48\u001b[0m         \"\"\"\n\u001b[1;32m     49\u001b[0m \u001b[0;34m\u001b[0m\u001b[0m\n\u001b[0;32m---> 50\u001b[0;31m         \u001b[0;32mfor\u001b[0m \u001b[0mpacket\u001b[0m \u001b[0;32min\u001b[0m \u001b[0mself\u001b[0m\u001b[0;34m.\u001b[0m\u001b[0mpacket_generator\u001b[0m\u001b[0;34m:\u001b[0m\u001b[0;34m\u001b[0m\u001b[0;34m\u001b[0m\u001b[0m\n\u001b[0m\u001b[1;32m     51\u001b[0m             \u001b[0mself\u001b[0m\u001b[0;34m.\u001b[0m\u001b[0mstore\u001b[0m\u001b[0;34m(\u001b[0m\u001b[0mpacket\u001b[0m\u001b[0;34m)\u001b[0m\u001b[0;34m\u001b[0m\u001b[0;34m\u001b[0m\u001b[0m\n\u001b[1;32m     52\u001b[0m \u001b[0;34m\u001b[0m\u001b[0m\n",
      "\u001b[0;32m~/.local/lib/python3.8/site-packages/clickhouse_driver/client.py\u001b[0m in \u001b[0;36mpacket_generator\u001b[0;34m(self)\u001b[0m\n\u001b[1;32m    127\u001b[0m         \u001b[0;32mwhile\u001b[0m \u001b[0;32mTrue\u001b[0m\u001b[0;34m:\u001b[0m\u001b[0;34m\u001b[0m\u001b[0;34m\u001b[0m\u001b[0m\n\u001b[1;32m    128\u001b[0m             \u001b[0;32mtry\u001b[0m\u001b[0;34m:\u001b[0m\u001b[0;34m\u001b[0m\u001b[0;34m\u001b[0m\u001b[0m\n\u001b[0;32m--> 129\u001b[0;31m                 \u001b[0mpacket\u001b[0m \u001b[0;34m=\u001b[0m \u001b[0mself\u001b[0m\u001b[0;34m.\u001b[0m\u001b[0mreceive_packet\u001b[0m\u001b[0;34m(\u001b[0m\u001b[0;34m)\u001b[0m\u001b[0;34m\u001b[0m\u001b[0;34m\u001b[0m\u001b[0m\n\u001b[0m\u001b[1;32m    130\u001b[0m                 \u001b[0;32mif\u001b[0m \u001b[0;32mnot\u001b[0m \u001b[0mpacket\u001b[0m\u001b[0;34m:\u001b[0m\u001b[0;34m\u001b[0m\u001b[0;34m\u001b[0m\u001b[0m\n\u001b[1;32m    131\u001b[0m                     \u001b[0;32mbreak\u001b[0m\u001b[0;34m\u001b[0m\u001b[0;34m\u001b[0m\u001b[0m\n",
      "\u001b[0;32m~/.local/lib/python3.8/site-packages/clickhouse_driver/client.py\u001b[0m in \u001b[0;36mreceive_packet\u001b[0;34m(self)\u001b[0m\n\u001b[1;32m    144\u001b[0m \u001b[0;34m\u001b[0m\u001b[0m\n\u001b[1;32m    145\u001b[0m         \u001b[0;32mif\u001b[0m \u001b[0mpacket\u001b[0m\u001b[0;34m.\u001b[0m\u001b[0mtype\u001b[0m \u001b[0;34m==\u001b[0m \u001b[0mServerPacketTypes\u001b[0m\u001b[0;34m.\u001b[0m\u001b[0mEXCEPTION\u001b[0m\u001b[0;34m:\u001b[0m\u001b[0;34m\u001b[0m\u001b[0;34m\u001b[0m\u001b[0m\n\u001b[0;32m--> 146\u001b[0;31m             \u001b[0;32mraise\u001b[0m \u001b[0mpacket\u001b[0m\u001b[0;34m.\u001b[0m\u001b[0mexception\u001b[0m\u001b[0;34m\u001b[0m\u001b[0;34m\u001b[0m\u001b[0m\n\u001b[0m\u001b[1;32m    147\u001b[0m \u001b[0;34m\u001b[0m\u001b[0m\n\u001b[1;32m    148\u001b[0m         \u001b[0;32melif\u001b[0m \u001b[0mpacket\u001b[0m\u001b[0;34m.\u001b[0m\u001b[0mtype\u001b[0m \u001b[0;34m==\u001b[0m \u001b[0mServerPacketTypes\u001b[0m\u001b[0;34m.\u001b[0m\u001b[0mPROGRESS\u001b[0m\u001b[0;34m:\u001b[0m\u001b[0;34m\u001b[0m\u001b[0;34m\u001b[0m\u001b[0m\n",
      "\u001b[0;31mServerException\u001b[0m: Code: 371.\nDB::Exception: There was an error on [clickhouse-1:9000]: An error occurred before execution: Code: 371, e.displayText() = DB::Exception: There are two exactly the same ClickHouse instances clickhouse-1:9000 in cluster kube_clickhouse_cluster (version 20.5.2.7 (official build)). Stack trace:\n\n0. Poco::Exception::Exception(std::__1::basic_string<char, std::__1::char_traits<char>, std::__1::allocator<char> > const&, int) @ 0x10ed0da0 in /usr/bin/clickhouse\n1. DB::Exception::Exception(std::__1::basic_string<char, std::__1::char_traits<char>, std::__1::allocator<char> > const&, int) @ 0x95c923d in /usr/bin/clickhouse\n2. DB::DDLQueryStatusInputStream::readImpl() @ 0xdb760ab in /usr/bin/clickhouse\n3. DB::IBlockInputStream::read() @ 0xd999b1d in /usr/bin/clickhouse\n4. DB::AsynchronousBlockInputStream::calculate() @ 0xd98f9a7 in /usr/bin/clickhouse\n5. ? @ 0xd98fe08 in /usr/bin/clickhouse\n6. ThreadPoolImpl<ThreadFromGlobalPool>::worker(std::__1::__list_iterator<ThreadFromGlobalPool, void*>) @ 0x95f7987 in /usr/bin/clickhouse\n7. ThreadFromGlobalPool::ThreadFromGlobalPool<void ThreadPoolImpl<ThreadFromGlobalPool>::scheduleImpl<void>(std::__1::function<void ()>, int, std::__1::optional<unsigned long>)::'lambda1'()>(void&&, void ThreadPoolImpl<ThreadFromGlobalPool>::scheduleImpl<void>(std::__1::function<void ()>, int, std::__1::optional<unsigned long>)::'lambda1'()&&...)::'lambda'()::operator()() const @ 0x95f80fa in /usr/bin/clickhouse\n8. ThreadPoolImpl<std::__1::thread>::worker(std::__1::__list_iterator<std::__1::thread, void*>) @ 0x95f6e97 in /usr/bin/clickhouse\n9. ? @ 0x95f5383 in /usr/bin/clickhouse\n10. start_thread @ 0x76db in /lib/x86_64-linux-gnu/libpthread-2.27.so\n11. __clone @ 0x12188f in /lib/x86_64-linux-gnu/libc-2.27.so\n"
     ]
    }
   ],
   "source": [
    "# materilized view is being created to dislay liker id , first name and the likes they made.\n",
    "client1.execute(\"CREATE MATERIALIZED VIEW task.mv_likesProfiles ON CLUSTER kube_clickhouse_cluster \\\n",
    "ENGINE = AggregatingMergeTree() \\\n",
    "ORDER BY (liker_id) \\\n",
    "POPULATE \\\n",
    "AS SELECT liker_id, first_name, countState() as cnt FROM \\\n",
    "( \\\n",
    "SELECT * FROM task.likes as l INNER JOIN task.user_profiles as p \\\n",
    "ON l.liker_id = p.id \\\n",
    ") \\\n",
    "GROUP BY liker_id, first_name;\")"
   ]
  },
  {
   "cell_type": "code",
   "execution_count": null,
   "id": "taken-springfield",
   "metadata": {},
   "outputs": [],
   "source": [
    "CREATE TABLE task.ddl_mv_likesProfiles AS task.mv_likesProfiles ENGINE = Distributed(kube_clickhouse_cluster, task, mv_likesProfiles);"
   ]
  },
  {
   "cell_type": "code",
   "execution_count": 73,
   "id": "higher-couple",
   "metadata": {},
   "outputs": [
    {
     "data": {
      "text/plain": [
       "[('clickhouse-2', 9000, 0, '', 2, 0),\n",
       " ('clickhouse-1', 9000, 0, '', 1, 0),\n",
       " ('clickhouse-3', 9000, 0, '', 0, 0)]"
      ]
     },
     "execution_count": 73,
     "metadata": {},
     "output_type": "execute_result"
    }
   ],
   "source": [
    "client1.execute(\"CREATE TABLE task.ddl_mv_likesProfiles ON CLUSTER kube_clickhouse_cluster AS task.mv_likesProfiles ENGINE = Distributed(kube_clickhouse_cluster, task, mv_likesProfiles);\")"
   ]
  },
  {
   "cell_type": "code",
   "execution_count": 230,
   "id": "expected-james",
   "metadata": {},
   "outputs": [
    {
     "data": {
      "text/plain": [
       "[('-41939351', 43189),\n",
       " ('-36151406', 40372),\n",
       " ('-84018481', 17754),\n",
       " ('-36025237', 12609),\n",
       " ('-35243698', 9821)]"
      ]
     },
     "execution_count": 230,
     "metadata": {},
     "output_type": "execute_result"
    }
   ],
   "source": [
    "client1.execute(\"SELECT owner_id, count(post_id) as cnt FROM \\\n",
    "task.ddl_posts WHERE length(text) > 255 GROUP BY owner_id order by cnt desc limit 5;\")"
   ]
  },
  {
   "cell_type": "code",
   "execution_count": null,
   "id": "centered-negotiation",
   "metadata": {},
   "outputs": [],
   "source": []
  },
  {
   "cell_type": "code",
   "execution_count": null,
   "id": "important-target",
   "metadata": {},
   "outputs": [],
   "source": []
  },
  {
   "cell_type": "code",
   "execution_count": null,
   "id": "absolute-theta",
   "metadata": {},
   "outputs": [],
   "source": []
  },
  {
   "cell_type": "code",
   "execution_count": null,
   "id": "broad-leeds",
   "metadata": {},
   "outputs": [],
   "source": []
  },
  {
   "cell_type": "code",
   "execution_count": null,
   "id": "sublime-concord",
   "metadata": {},
   "outputs": [],
   "source": []
  },
  {
   "cell_type": "code",
   "execution_count": 75,
   "id": "armed-prerequisite",
   "metadata": {},
   "outputs": [
    {
     "data": {
      "text/plain": [
       "[('.inner.mv_likesProfiles', '39.17 KiB'),\n",
       " ('.inner.mv1_posts', '779.40 KiB'),\n",
       " ('.inner.mv2_posts', '344.19 KiB'),\n",
       " ('likes', '52.95 MiB'),\n",
       " ('.inner.mv_likes_profiles', '142.80 KiB'),\n",
       " ('.inner.mv2_user_profiles', '895.62 KiB'),\n",
       " ('.inner.mv1_followers', '6.82 MiB'),\n",
       " ('.inner.dist_mv_likesProfiles', '142.80 KiB'),\n",
       " ('.inner.mv1_likes', '460.83 KiB'),\n",
       " ('friends', '159.56 MiB'),\n",
       " ('.inner.mv2_likes', '406.12 KiB'),\n",
       " ('followers', '170.58 MiB'),\n",
       " ('.inner.mv1_friends', '2.32 MiB'),\n",
       " ('posts', '118.81 MiB'),\n",
       " ('user_profiles', '43.05 MiB'),\n",
       " ('.inner.mv1_user_profiles', '5.98 KiB')]"
      ]
     },
     "execution_count": 75,
     "metadata": {},
     "output_type": "execute_result"
    }
   ],
   "source": [
    "client1.execute(\"SELECT table, formatReadableSize(sum(data_compressed_bytes)) FROM system.parts WHERE database='task' AND active=1 GROUP BY database, table;\")"
   ]
  },
  {
   "cell_type": "code",
   "execution_count": null,
   "id": "offshore-memory",
   "metadata": {},
   "outputs": [],
   "source": []
  },
  {
   "cell_type": "code",
   "execution_count": null,
   "id": "interested-swift",
   "metadata": {},
   "outputs": [],
   "source": []
  },
  {
   "cell_type": "code",
   "execution_count": null,
   "id": "modern-chest",
   "metadata": {},
   "outputs": [],
   "source": []
  }
 ],
 "metadata": {
  "kernelspec": {
   "display_name": "Python 3",
   "language": "python",
   "name": "python3"
  },
  "language_info": {
   "codemirror_mode": {
    "name": "ipython",
    "version": 3
   },
   "file_extension": ".py",
   "mimetype": "text/x-python",
   "name": "python",
   "nbconvert_exporter": "python",
   "pygments_lexer": "ipython3",
   "version": "3.8.8"
  }
 },
 "nbformat": 4,
 "nbformat_minor": 5
}
